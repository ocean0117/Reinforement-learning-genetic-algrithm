{
 "cells": [
  {
   "cell_type": "code",
   "execution_count": 3,
   "metadata": {},
   "outputs": [],
   "source": [
    "# 引入必要的库\n",
    "import numpy as np\n",
    "import pandas as pd\n",
    "import time\n",
    "import copy"
   ]
  },
  {
   "cell_type": "code",
   "execution_count": null,
   "metadata": {},
   "outputs": [],
   "source": [
    "# 读取数据\n",
    "def data_preprocessing():\n",
    "    \"\"\"读取数据，数据储存在Excel中，表名为分别为Processing Time与Machines Sequence，分别为工序时间和机器序列\n",
    "    Returns:\n",
    "        pt: 工序时间\n",
    "        ms: 机器序列\n",
    "        num_mc: 机器台数\n",
    "        num_job: 工序数\n",
    "        num_gene: 单条染色体中的基因数\n",
    "        \"\"\"\n",
    "    \n",
    "    pt_tmp=pd.read_excel(\"JSP_dataset.xlsx\",sheet_name=\"Processing Time\",index_col =[0])\n",
    "    ms_tmp=pd.read_excel(\"JSP_dataset.xlsx\",sheet_name=\"Machines Sequence\",index_col =[0])\n",
    "\n",
    "    dfshape=pt_tmp.shape # (工序数，机器台数)\n",
    "    num_mc=dfshape[1] # 机器台数\n",
    "    num_job=dfshape[0] # 工序数\n",
    "    num_gene=num_mc*num_job # 单条染色体中的基因数\n",
    "\n",
    "    pt = [list(map(int, pt_tmp.iloc[i])) for i in range(num_job)] # 工序时间\n",
    "    ms = [list(map(int,ms_tmp.iloc[i])) for i in range(num_job)] # 机器序列\n",
    "    return pt, ms, num_mc, num_job, num_gene\n",
    "\n",
    "pt, ms, num_mc, num_job, num_gene = data_preprocessing()"
   ]
  },
  {
   "cell_type": "code",
   "execution_count": 4,
   "metadata": {},
   "outputs": [
    {
     "ename": "NameError",
     "evalue": "name 'num_gene' is not defined",
     "output_type": "error",
     "traceback": [
      "\u001b[1;31m---------------------------------------------------------------------------\u001b[0m",
      "\u001b[1;31mNameError\u001b[0m                                 Traceback (most recent call last)",
      "\u001b[1;32m~\\AppData\\Local\\Temp\\ipykernel_14944\\4222032591.py\u001b[0m in \u001b[0;36m<module>\u001b[1;34m\u001b[0m\n\u001b[0;32m      4\u001b[0m \u001b[0mMUTATION_RATE\u001b[0m \u001b[1;33m=\u001b[0m \u001b[1;36m0.2\u001b[0m \u001b[1;31m# 变异概率\u001b[0m\u001b[1;33m\u001b[0m\u001b[1;33m\u001b[0m\u001b[0m\n\u001b[0;32m      5\u001b[0m \u001b[0mMUTATION_SELECTION_RATE\u001b[0m \u001b[1;33m=\u001b[0m \u001b[1;36m0.2\u001b[0m \u001b[1;31m# 变异基因数目选择率\u001b[0m\u001b[1;33m\u001b[0m\u001b[1;33m\u001b[0m\u001b[0m\n\u001b[1;32m----> 6\u001b[1;33m \u001b[0mNUM_MUTATION_JOBS\u001b[0m \u001b[1;33m=\u001b[0m \u001b[0mround\u001b[0m\u001b[1;33m(\u001b[0m\u001b[0mnum_gene\u001b[0m\u001b[1;33m*\u001b[0m\u001b[0mMUTATION_SELECTION_RATE\u001b[0m\u001b[1;33m)\u001b[0m \u001b[1;31m# 变异基因数\u001b[0m\u001b[1;33m\u001b[0m\u001b[1;33m\u001b[0m\u001b[0m\n\u001b[0m\u001b[0;32m      7\u001b[0m \u001b[0mNUM_ITERATION\u001b[0m \u001b[1;33m=\u001b[0m \u001b[1;36m1000\u001b[0m \u001b[1;31m# 迭代次数\u001b[0m\u001b[1;33m\u001b[0m\u001b[1;33m\u001b[0m\u001b[0m\n\u001b[0;32m      8\u001b[0m \u001b[0mckeck_time\u001b[0m \u001b[1;33m=\u001b[0m \u001b[1;32mFalse\u001b[0m \u001b[1;31m# 是否计算运行时间\u001b[0m\u001b[1;33m\u001b[0m\u001b[1;33m\u001b[0m\u001b[0m\n",
      "\u001b[1;31mNameError\u001b[0m: name 'num_gene' is not defined"
     ]
    }
   ],
   "source": [
    "# 设定初始参数\n",
    "POPULATION_SIZE = 30 # 种群大小\n",
    "CROSSOVER_RATE = 0.8 # 交叉概率\n",
    "MUTATION_RATE = 0.2 # 变异概率\n",
    "MUTATION_SELECTION_RATE = 0.2 # 变异基因数目选择率\n",
    "NUM_MUTATION_JOBS = round(num_gene*MUTATION_SELECTION_RATE) # 变异基因数\n",
    "NUM_ITERATION = 1000 # 迭代次数\n",
    "ckeck_time = False # 是否计算运行时间"
   ]
  },
  {
   "cell_type": "code",
   "execution_count": 8,
   "metadata": {},
   "outputs": [],
   "source": [
    "# 初始化种群\n",
    "def initialize_population(population_size, num_gene, num_job):\n",
    "    \"\"\"初始化种群\n",
    "    Args:\n",
    "        population_size: 种群大小\n",
    "        num_gene: 每条染色体的基因数\n",
    "        num_job: 工序数\n",
    "    Returns:\n",
    "        population_list: 种群列表\n",
    "    >>> initialize_population(3, 6, 3)\n",
    "    [[0, 2, 0, 1, 2, 1], [0, 0, 2, 1, 1, 2], [1, 0, 2, 1, 0, 2]]\n",
    "        \"\"\"\n",
    "\n",
    "    population_list=[] # 用于存储种群\n",
    "\n",
    "    for i in range(population_size):\n",
    "        nxm_random_num=list(np.random.permutation(num_gene)) # 生成一个随机序列，from 0 to num_gene-1   \n",
    "        population_list.append(nxm_random_num) # 添加到种群中\n",
    "        for j in range(num_gene):\n",
    "            population_list[i][j]=population_list[i][j]%num_job # 生成随机基因序列\n",
    "    return population_list"
   ]
  },
  {
   "cell_type": "code",
   "execution_count": 10,
   "metadata": {},
   "outputs": [
    {
     "data": {
      "text/plain": [
       "[[0, 2, 0, 1, 2, 1], [0, 0, 2, 1, 1, 2], [1, 0, 2, 1, 0, 2]]"
      ]
     },
     "execution_count": 10,
     "metadata": {},
     "output_type": "execute_result"
    }
   ],
   "source": [
    "initialize_population(3, 6, 3)"
   ]
  },
  {
   "cell_type": "code",
   "execution_count": null,
   "metadata": {},
   "outputs": [],
   "source": [
    "def crossover(parent_list, population_size, num_gene, crossover_rate):\n",
    "    ...\n",
    "    return offspring_list"
   ]
  }
 ],
 "metadata": {
  "kernelspec": {
   "display_name": "base",
   "language": "python",
   "name": "python3"
  },
  "language_info": {
   "codemirror_mode": {
    "name": "ipython",
    "version": 3
   },
   "file_extension": ".py",
   "mimetype": "text/x-python",
   "name": "python",
   "nbconvert_exporter": "python",
   "pygments_lexer": "ipython3",
   "version": "3.9.13"
  },
  "orig_nbformat": 4
 },
 "nbformat": 4,
 "nbformat_minor": 2
}
