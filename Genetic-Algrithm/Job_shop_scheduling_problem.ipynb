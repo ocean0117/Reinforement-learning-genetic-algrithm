{
 "cells": [
  {
   "cell_type": "code",
   "execution_count": 2,
   "metadata": {},
   "outputs": [],
   "source": [
    "# 引入所需库\n",
    "import numpy as np\n",
    "import pandas as pd\n",
    "import time\n",
    "import copy"
   ]
  },
  {
   "cell_type": "code",
   "execution_count": 3,
   "metadata": {},
   "outputs": [],
   "source": [
    "# 读取文件及数据初始化\n",
    "pt_tmp=pd.read_excel(\"JSP_dataset.xlsx\",sheet_name=\"Processing Time\",index_col =[0])\n",
    "ms_tmp=pd.read_excel(\"JSP_dataset.xlsx\",sheet_name=\"Machines Sequence\",index_col =[0])\n",
    "\n",
    "dfshape=pt_tmp.shape\n",
    "num_mc=dfshape[1] # 机器台数\n",
    "num_job=dfshape[0] # 工序数\n",
    "num_gene=num_mc*num_job # 单条染色体中的基因数\n",
    "\n",
    "pt=[list(map(int, pt_tmp.iloc[i])) for i in range(num_job)]\n",
    "ms=[list(map(int,ms_tmp.iloc[i])) for i in range(num_job)]\n"
   ]
  },
  {
   "cell_type": "code",
   "execution_count": 4,
   "metadata": {},
   "outputs": [
    {
     "data": {
      "text/plain": [
       "\"\\npopulation_size=int(input('Please input the size of population: ') or 30) \\ncrossover_rate=float(input('Please input the size of Crossover Rate: ') or 0.8) \\nmutation_rate=float(input('Please input the size of Mutation Rate: ') or 0.2) \\nmutation_selection_rate=float(input('Please input the mutation selection rate: ') or 0.2)\\nnum_mutation_jobs=round(num_gene*mutation_selection_rate)\\nnum_iteration=int(input('Please input number of iteration: ') or 2000) \\n    \\nstart_time = time.time()\\n\""
      ]
     },
     "execution_count": 4,
     "metadata": {},
     "output_type": "execute_result"
    }
   ],
   "source": [
    "# 输入参数设置\n",
    "\"\"\"\n",
    "population_size=int(input('Please input the size of population: ') or 30) \n",
    "crossover_rate=float(input('Please input the size of Crossover Rate: ') or 0.8) \n",
    "mutation_rate=float(input('Please input the size of Mutation Rate: ') or 0.2) \n",
    "mutation_selection_rate=float(input('Please input the mutation selection rate: ') or 0.2)\n",
    "num_mutation_jobs=round(num_gene*mutation_selection_rate)\n",
    "num_iteration=int(input('Please input number of iteration: ') or 2000) \n",
    "    \n",
    "start_time = time.time()\n",
    "\"\"\" "
   ]
  },
  {
   "cell_type": "code",
   "execution_count": 5,
   "metadata": {},
   "outputs": [],
   "source": [
    "# 设定初始参数\n",
    "POPULATION_SIZE = 30 # 种群大小\n",
    "CROSSOVER_RATE = 0.8 # 交叉概率\n",
    "MUTATION_RATE = 0.2 # 变异概率\n",
    "MUTATION_SELECTION_RATE = 0.2 # 变异选择率\n",
    "NUM_MUTATION_JOBS = round(num_gene*MUTATION_SELECTION_RATE) # 变异基因数\n",
    "NUM_ITERATION = 2000 # 迭代次数\n",
    "ckeck_time = False # 是否计算运行时间"
   ]
  },
  {
   "cell_type": "code",
   "execution_count": 6,
   "metadata": {},
   "outputs": [],
   "source": [
    "# 开始计时\n",
    "if ckeck_time:\n",
    "    start_time = time.time()"
   ]
  },
  {
   "cell_type": "code",
   "execution_count": 7,
   "metadata": {},
   "outputs": [],
   "source": [
    "# 生成初始种群\n",
    "Tbest=999999999999999 # 用于记录最优解\n",
    "best_list,best_obj=[],[] # 用于记录最优解的染色体和目标函数值\n",
    "population_list=[] # 用于存储种群\n",
    "for i in range(POPULATION_SIZE):\n",
    "    nxm_random_num=list(np.random.permutation(num_gene)) # 生成一个随机序列\n",
    "    population_list.append(nxm_random_num) # 添加到种群中\n",
    "    for j in range(num_gene):\n",
    "        population_list[i][j]=population_list[i][j]%num_job # 生成随机基因序列"
   ]
  },
  {
   "cell_type": "code",
   "execution_count": 8,
   "metadata": {},
   "outputs": [],
   "source": [
    "# 生成新一代\n",
    "for n in range(NUM_ITERATION):\n",
    "    Tbest_now=99999999999           \n",
    "   \n",
    "    # 交配\n",
    "    parent_list=copy.deepcopy(population_list)      # 深拷贝父母染色体\n",
    "    offspring_list=copy.deepcopy(population_list)   # 深拷贝子代染色体\n",
    "    S=list(np.random.permutation(POPULATION_SIZE))  # 返回随机的序列，用于选择交配父母染色体\n",
    "    \n",
    "    for m in range(int(POPULATION_SIZE/2)):         # 交配次数\n",
    "        crossover_prob=np.random.rand()             # 生成随机交叉概率\n",
    "        if CROSSOVER_RATE>=crossover_prob:          # 交叉\n",
    "            parent_1= population_list[S[2*m]][:]    # 相邻两个进行交叉\n",
    "            parent_2= population_list[S[2*m+1]][:]\n",
    "            child_1=parent_1[:]\n",
    "            child_2=parent_2[:]\n",
    "            cutpoint=list(np.random.choice(num_gene, 2, replace=False)) # 生成两个随机的交叉点\n",
    "            cutpoint.sort() # 交叉点排序\n",
    "        \n",
    "            child_1[cutpoint[0]:cutpoint[1]]=parent_2[cutpoint[0]:cutpoint[1]]\n",
    "            child_2[cutpoint[0]:cutpoint[1]]=parent_1[cutpoint[0]:cutpoint[1]]\n",
    "            offspring_list[S[2*m]]=child_1[:]\n",
    "            offspring_list[S[2*m+1]]=child_2[:]\n",
    "    \n",
    "    # 修复\n",
    "    for m in range(POPULATION_SIZE):\n",
    "        job_count={}\n",
    "        larger,less=[],[] # 'larger' record jobs appear in the chromosome more than m times, and 'less' records less than m times.\n",
    "        for i in range(num_job):\n",
    "            if i in offspring_list[m]:\n",
    "                count=offspring_list[m].count(i)\n",
    "                pos=offspring_list[m].index(i)\n",
    "                job_count[i]=[count,pos] # store the above two values to the job_count dictionary\n",
    "            else:\n",
    "                count=0\n",
    "                job_count[i]=[count,0]\n",
    "            if count>num_mc:\n",
    "                larger.append(i)\n",
    "            elif count<num_mc:\n",
    "                less.append(i)\n",
    "                \n",
    "        for k in range(len(larger)):\n",
    "            chg_job=larger[k]\n",
    "            while job_count[chg_job][0]>num_mc:\n",
    "                for d in range(len(less)):\n",
    "                    if job_count[less[d]][0]<num_mc:                    \n",
    "                        offspring_list[m][job_count[chg_job][1]]=less[d]\n",
    "                        job_count[chg_job][1]=offspring_list[m].index(chg_job)\n",
    "                        job_count[chg_job][0]=job_count[chg_job][0]-1\n",
    "                        job_count[less[d]][0]=job_count[less[d]][0]+1                    \n",
    "                    if job_count[chg_job][0]==num_mc:\n",
    "                        break     "
   ]
  }
 ],
 "metadata": {
  "kernelspec": {
   "display_name": "base",
   "language": "python",
   "name": "python3"
  },
  "language_info": {
   "codemirror_mode": {
    "name": "ipython",
    "version": 3
   },
   "file_extension": ".py",
   "mimetype": "text/x-python",
   "name": "python",
   "nbconvert_exporter": "python",
   "pygments_lexer": "ipython3",
   "version": "3.9.13"
  },
  "orig_nbformat": 4
 },
 "nbformat": 4,
 "nbformat_minor": 2
}
