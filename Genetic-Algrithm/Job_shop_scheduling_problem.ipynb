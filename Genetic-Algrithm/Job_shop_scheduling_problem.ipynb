{
 "cells": [
  {
   "cell_type": "code",
   "execution_count": 1,
   "metadata": {},
   "outputs": [],
   "source": [
    "# 引入所需库\n",
    "import numpy as np\n",
    "import pandas as pd\n",
    "import time\n",
    "import copy"
   ]
  },
  {
   "cell_type": "code",
   "execution_count": 2,
   "metadata": {},
   "outputs": [],
   "source": [
    "# 读取文件及数据初始化\n",
    "pt_tmp=pd.read_excel(\"JSP_dataset.xlsx\",sheet_name=\"Processing Time\",index_col =[0])\n",
    "ms_tmp=pd.read_excel(\"JSP_dataset.xlsx\",sheet_name=\"Machines Sequence\",index_col =[0])\n",
    "\n",
    "dfshape=pt_tmp.shape\n",
    "num_mc=dfshape[1] # 机器台数\n",
    "num_job=dfshape[0] # 工序数\n",
    "num_gene=num_mc*num_job # 单条染色体中的基因数\n",
    "\n",
    "pt=[list(map(int, pt_tmp.iloc[i])) for i in range(num_job)]\n",
    "ms=[list(map(int,ms_tmp.iloc[i])) for i in range(num_job)]\n",
    "\n"
   ]
  },
  {
   "cell_type": "code",
   "execution_count": 3,
   "metadata": {},
   "outputs": [],
   "source": [
    "# 设定初始参数\n",
    "\n",
    "POPULATION_SIZE = 30 # 种群大小\n",
    "CROSSOVER_RATE = 0.8 # 交叉概率\n",
    "MUTATION_RATE = 0.2 # 变异概率\n",
    "MUTATION_SELECTION_RATE = 0.2 # 变异基因数目选择率\n",
    "NUM_MUTATION_JOBS = round(num_gene*MUTATION_SELECTION_RATE) # 变异基因数\n",
    "NUM_ITERATION = 1000 # 迭代次数\n",
    "ckeck_time = False # 是否计算运行时间"
   ]
  },
  {
   "cell_type": "code",
   "execution_count": 4,
   "metadata": {},
   "outputs": [],
   "source": [
    "# 开始计时\n",
    "if ckeck_time:\n",
    "    start_time = time.time()"
   ]
  },
  {
   "cell_type": "code",
   "execution_count": 5,
   "metadata": {},
   "outputs": [],
   "source": [
    "# 生成初始种群\n",
    "Tbest=float('inf') # 用于记录最优解,初始值为无穷大\n",
    "best_list,best_obj=[],[] # 用于记录最优解的染色体和目标函数值\n",
    "population_list=[] # 用于存储种群\n",
    "makespan_record=[] # 用于记录每次迭代的最优解\n",
    "\n",
    "for i in range(POPULATION_SIZE):\n",
    "    nxm_random_num=list(np.random.permutation(num_gene)) # 生成一个随机序列，from 0 to num_gene-1   \n",
    "    population_list.append(nxm_random_num) # 添加到种群中\n",
    "    for j in range(num_gene):\n",
    "        population_list[i][j]=population_list[i][j]%num_job # 生成随机基因序列"
   ]
  },
  {
   "cell_type": "code",
   "execution_count": 6,
   "metadata": {},
   "outputs": [
    {
     "name": "stdout",
     "output_type": "stream",
     "text": [
      "optimal sequence [2, 5, 1, 2, 8, 6, 3, 3, 2, 10, 5, 8, 10, 2, 3, 4, 7, 8, 8, 10, 5, 6, 10, 2, 7, 10, 7, 4, 6, 1, 1, 4, 3, 9, 8, 4, 5, 2, 1, 3, 7, 6, 8, 4, 4, 7, 10, 9, 1, 10, 7, 5, 6, 8, 1, 6, 10, 9, 9, 6, 4, 3, 7, 5, 1, 6, 8, 1, 5, 9, 2, 7, 3, 8, 7, 7, 2, 1, 9, 4, 8, 5, 4, 9, 5, 10, 9, 3, 10, 9, 3, 9, 2, 6, 4, 5, 6, 3, 1, 2]\n",
      "optimal value:1239.000000\n"
     ]
    },
    {
     "data": {
      "image/png": "[encoded data removed]",
      "text/plain": [
       "<Figure size 640x480 with 1 Axes>"
      ]
     },
     "metadata": {},
     "output_type": "display_data"
    }
   ],
   "source": [
    "# 生成新一代\n",
    "for n in range(NUM_ITERATION):\n",
    "    Tbest_now=float('inf') # 用于记录当前最优解,初始值为无穷大      \n",
    "   \n",
    "    # 交配\n",
    "    parent_list=copy.deepcopy(population_list)      # 深拷贝父母染色体\n",
    "    offspring_list=copy.deepcopy(population_list)   # 深拷贝子代染色体\n",
    "    S=list(np.random.permutation(POPULATION_SIZE))  # 返回随机的序列，用于选择交配父母染色体\n",
    "    \n",
    "    for m in range(int(POPULATION_SIZE/2)):         # 交配次数\n",
    "        crossover_prob=np.random.rand()             # 生成随机交叉概率\n",
    "        if CROSSOVER_RATE>=crossover_prob:          # 交叉\n",
    "            parent_1= population_list[S[2*m]][:]    # 相邻两个进行交叉\n",
    "            parent_2= population_list[S[2*m+1]][:]\n",
    "            child_1=parent_1[:]\n",
    "            child_2=parent_2[:]\n",
    "            cutpoint=list(np.random.choice(num_gene, 2, replace=False)) # 生成两个随机的交叉点\n",
    "            cutpoint.sort() # 交叉点排序\n",
    "        \n",
    "            child_1[cutpoint[0]:cutpoint[1]]=parent_2[cutpoint[0]:cutpoint[1]]\n",
    "            child_2[cutpoint[0]:cutpoint[1]]=parent_1[cutpoint[0]:cutpoint[1]]\n",
    "            offspring_list[S[2*m]]=child_1[:]\n",
    "            offspring_list[S[2*m+1]]=child_2[:]\n",
    "    \n",
    "    # 修复，确保每个工序在每台机器上只出现一次\n",
    "    for m in range(POPULATION_SIZE):\n",
    "        job_count={} # 用于记录每个数字出现的次数和第一次出现的位置\n",
    "        larger,less=[],[] # 'larger'记录超过正常次数的染色体，less记录小于正常次数的染色体\n",
    "        for i in range(num_job):\n",
    "            if i in offspring_list[m]:\n",
    "                count=offspring_list[m].count(i) # 计算染色体中每个数字出现的次数\n",
    "                pos=offspring_list[m].index(i) # 记录第一次出现的位置\n",
    "                job_count[i]=[count,pos] # 将以上两个值存储到job_count字典中\n",
    "            else:\n",
    "                count=0\n",
    "                job_count[i]=[count,0]\n",
    "            if count>num_mc:\n",
    "                larger.append(i)\n",
    "            elif count<num_mc:\n",
    "                less.append(i)\n",
    "                \n",
    "        for k in range(len(larger)):\n",
    "            chg_job=larger[k] # 需要处理的数字\n",
    "            while job_count[chg_job][0]>num_mc:\n",
    "                for d in range(len(less)):\n",
    "                    if job_count[less[d]][0]<num_mc:                    \n",
    "                        offspring_list[m][job_count[chg_job][1]]=less[d] # 将超过正常次数的数字替换为小于正常次数的数字\n",
    "                        job_count[chg_job][1]=offspring_list[m].index(chg_job) # 更新第一次出现的位置\n",
    "                        job_count[chg_job][0]=job_count[chg_job][0]-1 # 更新出现次数\n",
    "                        job_count[less[d]][0]=job_count[less[d]][0]+1 # 更新出现次数                   \n",
    "                    if job_count[chg_job][0]==num_mc: # 如果处理完毕，则跳出循环\n",
    "                        break     \n",
    "\n",
    "    # 变异\n",
    "    \"\"\"循环变异，选择一个变异位点，将该位点的值赋给下一个变异位点，循环往复，直至最后一个变异位点的值赋给第一个变异位点\"\"\"\"\"\n",
    "    for m in range(len(offspring_list)):\n",
    "        mutation_prob=np.random.rand() # 生成随机变异概率\n",
    "        if MUTATION_RATE >= mutation_prob:\n",
    "            m_chg=list(np.random.choice(num_gene, NUM_MUTATION_JOBS, replace=False)) # 选择变异的位点\n",
    "            t_value_last=offspring_list[m][m_chg[0]] # 记录第一个变异位点的值\n",
    "            for i in range(NUM_MUTATION_JOBS-1):\n",
    "                offspring_list[m][m_chg[i]]=offspring_list[m][m_chg[i+1]] # 展示变异\n",
    "            \n",
    "            offspring_list[m][m_chg[NUM_MUTATION_JOBS-1]]=t_value_last # 将第一个变异位点的值赋给最后一个变异位点\n",
    "\n",
    "    # 计算适应度\n",
    "    \"\"\"计算新种群的适应度\n",
    "    由于需要利用轮盘法，所以需要计算每个染色体的适应度（倒数，用于轮盘）\n",
    "    直接适用度用于比较，适应度越小，越优秀\n",
    "    \"\"\"\n",
    "    total_chromosome=copy.deepcopy(parent_list)+copy.deepcopy(offspring_list) # 将亲代和子代染色体合并\n",
    "    chrom_fitness,chrom_fit=[],[] # 用于存储每个染色体的倒数适应度（用于轮盘）和适应度\n",
    "    total_fitness=0 # 总适应度\n",
    "    for m in range(POPULATION_SIZE*2):      # 计算每个染色体的适应度\n",
    "        j_keys=[j for j in range(num_job)] \n",
    "        key_count={key:0 for key in j_keys} # 初始化字典，存储每个任务已经处理的次数\n",
    "        j_count={key:0 for key in j_keys}   # 初始化字典，存储每个任务的累积处理时间\n",
    "        m_keys=[j+1 for j in range(num_mc)]\n",
    "        m_count={key:0 for key in m_keys}   # 初始化字典，存储每台机器的累积处理时间\n",
    "        \n",
    "        for i in total_chromosome[m]:       # 计算每个任务的累积处理时间\n",
    "            gen_t=int(pt[i][key_count[i]])  # 获取当前任务的处理时间\n",
    "            gen_m=int(ms[i][key_count[i]])  # 获取当前任务的处理机器\n",
    "            j_count[i]=j_count[i]+gen_t     # 累积工序i的处理时间\n",
    "            m_count[gen_m]=m_count[gen_m]+gen_t # 累积gen_m机器处理时间\n",
    "            \n",
    "            if m_count[gen_m]<j_count[i]:   # 如果机器累计处理时间小于工序处理时间，则将机器处理时间更新为工序处理时间\n",
    "                m_count[gen_m]=j_count[i]\n",
    "            elif m_count[gen_m]>j_count[i]: # 如果机器累计处理时间大于工序处理时间，则将工序处理时间更新为机器处理时间\n",
    "                j_count[i]=m_count[gen_m]\n",
    "                # 这样做是为了确保任务按顺序在机器上执行，即等待前一个任务完成后再开始执行下一个任务。\n",
    "            \n",
    "            key_count[i]=key_count[i]+1     # 更新任务处理次数\n",
    "    \n",
    "        makespan=max(j_count.values())      # 计算最大的累积处理时间，即最大的完成时间\n",
    "        chrom_fitness.append(1/makespan)    # 计算每个染色体的适应度的倒数\n",
    "        chrom_fit.append(makespan)          \n",
    "        total_fitness=total_fitness+chrom_fitness[m] # 计算总适应度\n",
    "\n",
    "    # 选择\n",
    "    \"\"\"轮盘法选择\n",
    "    根据每个染色体的适应度，计算每个染色体的概率\n",
    "    然后根据概率，随机选择染色体\n",
    "    \"\"\"\n",
    "    pk,qk=[],[] # 用于存储每个染色体的概率和累积概率\n",
    "    \n",
    "    for i in range(POPULATION_SIZE*2):\n",
    "        pk.append(chrom_fitness[i]/total_fitness)\n",
    "    for i in range(POPULATION_SIZE*2):\n",
    "        cumulative=0\n",
    "        for j in range(0,i+1):\n",
    "            cumulative=cumulative+pk[j]\n",
    "        qk.append(cumulative)\n",
    "    \n",
    "    selection_rand=[np.random.rand() for i in range(POPULATION_SIZE)] # 生成随机数，用于选择\n",
    "    \n",
    "    for i in range(POPULATION_SIZE):    # 根据随机数，选择染色体\n",
    "        if selection_rand[i]<=qk[0]:    # 如果随机数小于第一个累积概率，则选择第一个染色体\n",
    "            population_list[i]=copy.deepcopy(total_chromosome[0])\n",
    "        else:\n",
    "            for j in range(0,POPULATION_SIZE*2-1):  # 如果随机数大于第一个累积概率，则选择第一个大于随机数的累积概率对应的染色体\n",
    "                if selection_rand[i]>qk[j] and selection_rand[i]<=qk[j+1]:\n",
    "                    population_list[i]=copy.deepcopy(total_chromosome[j+1])\n",
    "                    break\n",
    "    # 比较\n",
    "    \"\"\"比较当前最优解和全局最优解\"\"\"\n",
    "    for i in range(POPULATION_SIZE*2):\n",
    "        if chrom_fit[i]<Tbest_now:\n",
    "            Tbest_now=chrom_fit[i]\n",
    "            sequence_now=copy.deepcopy(total_chromosome[i])\n",
    "    if Tbest_now<=Tbest:\n",
    "        Tbest=Tbest_now\n",
    "        sequence_best=copy.deepcopy(sequence_now)\n",
    "        \n",
    "    makespan_record.append(Tbest)\n",
    "# 输出结果\n",
    "print(\"optimal sequence\",[x+1 for x in sequence_best])\n",
    "print(\"optimal value:%f\"%Tbest)\n",
    "if  ckeck_time:\n",
    "    print('the elapsed time:%s'% (time.time() - start_time))\n",
    "\n",
    "import matplotlib.pyplot as plt\n",
    "%matplotlib inline\n",
    "plt.plot([i for i in range(len(makespan_record))],makespan_record,'b')\n",
    "plt.ylabel('makespan',fontsize=15)\n",
    "plt.xlabel('generation',fontsize=15)\n",
    "plt.show()"
   ]
  },
  {
   "cell_type": "code",
   "execution_count": 7,
   "metadata": {},
   "outputs": [
    {
     "name": "stdout",
     "output_type": "stream",
     "text": [
      "optimal sequence [2, 5, 1, 2, 8, 6, 3, 3, 2, 10, 5, 8, 10, 2, 3, 4, 7, 8, 8, 10, 5, 6, 10, 2, 7, 10, 7, 4, 6, 1, 1, 4, 3, 9, 8, 4, 5, 2, 1, 3, 7, 6, 8, 4, 4, 7, 10, 9, 1, 10, 7, 5, 6, 8, 1, 6, 10, 9, 9, 6, 4, 3, 7, 5, 1, 6, 8, 1, 5, 9, 2, 7, 3, 8, 7, 7, 2, 1, 9, 4, 8, 5, 4, 9, 5, 10, 9, 3, 10, 9, 3, 9, 2, 6, 4, 5, 6, 3, 1, 2]\n"
     ]
    }
   ],
   "source": [
    "print(\"optimal sequence\",[x+1 for x in sequence_best])"
   ]
  },
  {
   "cell_type": "code",
   "execution_count": 14,
   "metadata": {},
   "outputs": [],
   "source": [
    "import ssl\n",
    "import urllib3\n",
    "\n",
    "# 禁用 SSL 证书验证\n",
    "ssl._create_default_https_context = ssl._create_unverified_context\n",
    "urllib3.disable_warnings(urllib3.exceptions.InsecureRequestWarning)\n"
   ]
  },
  {
   "cell_type": "code",
   "execution_count": 24,
   "metadata": {},
   "outputs": [
    {
     "ename": "PlotlyRequestError",
     "evalue": "No message",
     "output_type": "error",
     "traceback": [
      "\u001b[1;31m---------------------------------------------------------------------------\u001b[0m",
      "\u001b[1;31mSSLCertVerificationError\u001b[0m                  Traceback (most recent call last)",
      "\u001b[1;32mc:\\Users\\Ocean\\anaconda3\\lib\\site-packages\\urllib3\\connectionpool.py\u001b[0m in \u001b[0;36murlopen\u001b[1;34m(self, method, url, body, headers, retries, redirect, assert_same_host, timeout, pool_timeout, release_conn, chunked, body_pos, **response_kw)\u001b[0m\n\u001b[0;32m    699\u001b[0m             \u001b[1;32mif\u001b[0m \u001b[0mis_new_proxy_conn\u001b[0m \u001b[1;32mand\u001b[0m \u001b[0mhttp_tunnel_required\u001b[0m\u001b[1;33m:\u001b[0m\u001b[1;33m\u001b[0m\u001b[1;33m\u001b[0m\u001b[0m\n\u001b[1;32m--> 700\u001b[1;33m                 \u001b[0mself\u001b[0m\u001b[1;33m.\u001b[0m\u001b[0m_prepare_proxy\u001b[0m\u001b[1;33m(\u001b[0m\u001b[0mconn\u001b[0m\u001b[1;33m)\u001b[0m\u001b[1;33m\u001b[0m\u001b[1;33m\u001b[0m\u001b[0m\n\u001b[0m\u001b[0;32m    701\u001b[0m \u001b[1;33m\u001b[0m\u001b[0m\n",
      "\u001b[1;32mc:\\Users\\Ocean\\anaconda3\\lib\\site-packages\\urllib3\\connectionpool.py\u001b[0m in \u001b[0;36m_prepare_proxy\u001b[1;34m(self, conn)\u001b[0m\n\u001b[0;32m    995\u001b[0m \u001b[1;33m\u001b[0m\u001b[0m\n\u001b[1;32m--> 996\u001b[1;33m         \u001b[0mconn\u001b[0m\u001b[1;33m.\u001b[0m\u001b[0mconnect\u001b[0m\u001b[1;33m(\u001b[0m\u001b[1;33m)\u001b[0m\u001b[1;33m\u001b[0m\u001b[1;33m\u001b[0m\u001b[0m\n\u001b[0m\u001b[0;32m    997\u001b[0m \u001b[1;33m\u001b[0m\u001b[0m\n",
      "\u001b[1;32mc:\\Users\\Ocean\\anaconda3\\lib\\site-packages\\urllib3\\connection.py\u001b[0m in \u001b[0;36mconnect\u001b[1;34m(self)\u001b[0m\n\u001b[0;32m    413\u001b[0m \u001b[1;33m\u001b[0m\u001b[0m\n\u001b[1;32m--> 414\u001b[1;33m         self.sock = ssl_wrap_socket(\n\u001b[0m\u001b[0;32m    415\u001b[0m             \u001b[0msock\u001b[0m\u001b[1;33m=\u001b[0m\u001b[0mconn\u001b[0m\u001b[1;33m,\u001b[0m\u001b[1;33m\u001b[0m\u001b[1;33m\u001b[0m\u001b[0m\n",
      "\u001b[1;32mc:\\Users\\Ocean\\anaconda3\\lib\\site-packages\\urllib3\\util\\ssl_.py\u001b[0m in \u001b[0;36mssl_wrap_socket\u001b[1;34m(sock, keyfile, certfile, cert_reqs, ca_certs, server_hostname, ssl_version, ciphers, ssl_context, ca_cert_dir, key_password, ca_cert_data, tls_in_tls)\u001b[0m\n\u001b[0;32m    448\u001b[0m     \u001b[1;32mif\u001b[0m \u001b[0msend_sni\u001b[0m\u001b[1;33m:\u001b[0m\u001b[1;33m\u001b[0m\u001b[1;33m\u001b[0m\u001b[0m\n\u001b[1;32m--> 449\u001b[1;33m         ssl_sock = _ssl_wrap_socket_impl(\n\u001b[0m\u001b[0;32m    450\u001b[0m             \u001b[0msock\u001b[0m\u001b[1;33m,\u001b[0m \u001b[0mcontext\u001b[0m\u001b[1;33m,\u001b[0m \u001b[0mtls_in_tls\u001b[0m\u001b[1;33m,\u001b[0m \u001b[0mserver_hostname\u001b[0m\u001b[1;33m=\u001b[0m\u001b[0mserver_hostname\u001b[0m\u001b[1;33m\u001b[0m\u001b[1;33m\u001b[0m\u001b[0m\n",
      "\u001b[1;32mc:\\Users\\Ocean\\anaconda3\\lib\\site-packages\\urllib3\\util\\ssl_.py\u001b[0m in \u001b[0;36m_ssl_wrap_socket_impl\u001b[1;34m(sock, ssl_context, tls_in_tls, server_hostname)\u001b[0m\n\u001b[0;32m    492\u001b[0m     \u001b[1;32mif\u001b[0m \u001b[0mserver_hostname\u001b[0m\u001b[1;33m:\u001b[0m\u001b[1;33m\u001b[0m\u001b[1;33m\u001b[0m\u001b[0m\n\u001b[1;32m--> 493\u001b[1;33m         \u001b[1;32mreturn\u001b[0m \u001b[0mssl_context\u001b[0m\u001b[1;33m.\u001b[0m\u001b[0mwrap_socket\u001b[0m\u001b[1;33m(\u001b[0m\u001b[0msock\u001b[0m\u001b[1;33m,\u001b[0m \u001b[0mserver_hostname\u001b[0m\u001b[1;33m=\u001b[0m\u001b[0mserver_hostname\u001b[0m\u001b[1;33m)\u001b[0m\u001b[1;33m\u001b[0m\u001b[1;33m\u001b[0m\u001b[0m\n\u001b[0m\u001b[0;32m    494\u001b[0m     \u001b[1;32melse\u001b[0m\u001b[1;33m:\u001b[0m\u001b[1;33m\u001b[0m\u001b[1;33m\u001b[0m\u001b[0m\n",
      "\u001b[1;32mc:\\Users\\Ocean\\anaconda3\\lib\\ssl.py\u001b[0m in \u001b[0;36mwrap_socket\u001b[1;34m(self, sock, server_side, do_handshake_on_connect, suppress_ragged_eofs, server_hostname, session)\u001b[0m\n\u001b[0;32m    500\u001b[0m         \u001b[1;31m# ctx._wrap_socket()\u001b[0m\u001b[1;33m\u001b[0m\u001b[1;33m\u001b[0m\u001b[0m\n\u001b[1;32m--> 501\u001b[1;33m         return self.sslsocket_class._create(\n\u001b[0m\u001b[0;32m    502\u001b[0m             \u001b[0msock\u001b[0m\u001b[1;33m=\u001b[0m\u001b[0msock\u001b[0m\u001b[1;33m,\u001b[0m\u001b[1;33m\u001b[0m\u001b[1;33m\u001b[0m\u001b[0m\n",
      "\u001b[1;32mc:\\Users\\Ocean\\anaconda3\\lib\\ssl.py\u001b[0m in \u001b[0;36m_create\u001b[1;34m(cls, sock, server_side, do_handshake_on_connect, suppress_ragged_eofs, server_hostname, context, session)\u001b[0m\n\u001b[0;32m   1040\u001b[0m                         \u001b[1;32mraise\u001b[0m \u001b[0mValueError\u001b[0m\u001b[1;33m(\u001b[0m\u001b[1;34m\"do_handshake_on_connect should not be specified for non-blocking sockets\"\u001b[0m\u001b[1;33m)\u001b[0m\u001b[1;33m\u001b[0m\u001b[1;33m\u001b[0m\u001b[0m\n\u001b[1;32m-> 1041\u001b[1;33m                     \u001b[0mself\u001b[0m\u001b[1;33m.\u001b[0m\u001b[0mdo_handshake\u001b[0m\u001b[1;33m(\u001b[0m\u001b[1;33m)\u001b[0m\u001b[1;33m\u001b[0m\u001b[1;33m\u001b[0m\u001b[0m\n\u001b[0m\u001b[0;32m   1042\u001b[0m             \u001b[1;32mexcept\u001b[0m \u001b[1;33m(\u001b[0m\u001b[0mOSError\u001b[0m\u001b[1;33m,\u001b[0m \u001b[0mValueError\u001b[0m\u001b[1;33m)\u001b[0m\u001b[1;33m:\u001b[0m\u001b[1;33m\u001b[0m\u001b[1;33m\u001b[0m\u001b[0m\n",
      "\u001b[1;32mc:\\Users\\Ocean\\anaconda3\\lib\\ssl.py\u001b[0m in \u001b[0;36mdo_handshake\u001b[1;34m(self, block)\u001b[0m\n\u001b[0;32m   1309\u001b[0m                 \u001b[0mself\u001b[0m\u001b[1;33m.\u001b[0m\u001b[0msettimeout\u001b[0m\u001b[1;33m(\u001b[0m\u001b[1;32mNone\u001b[0m\u001b[1;33m)\u001b[0m\u001b[1;33m\u001b[0m\u001b[1;33m\u001b[0m\u001b[0m\n\u001b[1;32m-> 1310\u001b[1;33m             \u001b[0mself\u001b[0m\u001b[1;33m.\u001b[0m\u001b[0m_sslobj\u001b[0m\u001b[1;33m.\u001b[0m\u001b[0mdo_handshake\u001b[0m\u001b[1;33m(\u001b[0m\u001b[1;33m)\u001b[0m\u001b[1;33m\u001b[0m\u001b[1;33m\u001b[0m\u001b[0m\n\u001b[0m\u001b[0;32m   1311\u001b[0m         \u001b[1;32mfinally\u001b[0m\u001b[1;33m:\u001b[0m\u001b[1;33m\u001b[0m\u001b[1;33m\u001b[0m\u001b[0m\n",
      "\u001b[1;31mSSLCertVerificationError\u001b[0m: [SSL: CERTIFICATE_VERIFY_FAILED] certificate verify failed: unable to get local issuer certificate (_ssl.c:1129)",
      "\nDuring handling of the above exception, another exception occurred:\n",
      "\u001b[1;31mMaxRetryError\u001b[0m                             Traceback (most recent call last)",
      "\u001b[1;32mc:\\Users\\Ocean\\anaconda3\\lib\\site-packages\\requests\\adapters.py\u001b[0m in \u001b[0;36msend\u001b[1;34m(self, request, stream, timeout, verify, cert, proxies)\u001b[0m\n\u001b[0;32m    488\u001b[0m             \u001b[1;32mif\u001b[0m \u001b[1;32mnot\u001b[0m \u001b[0mchunked\u001b[0m\u001b[1;33m:\u001b[0m\u001b[1;33m\u001b[0m\u001b[1;33m\u001b[0m\u001b[0m\n\u001b[1;32m--> 489\u001b[1;33m                 resp = conn.urlopen(\n\u001b[0m\u001b[0;32m    490\u001b[0m                     \u001b[0mmethod\u001b[0m\u001b[1;33m=\u001b[0m\u001b[0mrequest\u001b[0m\u001b[1;33m.\u001b[0m\u001b[0mmethod\u001b[0m\u001b[1;33m,\u001b[0m\u001b[1;33m\u001b[0m\u001b[1;33m\u001b[0m\u001b[0m\n",
      "\u001b[1;32mc:\\Users\\Ocean\\anaconda3\\lib\\site-packages\\urllib3\\connectionpool.py\u001b[0m in \u001b[0;36murlopen\u001b[1;34m(self, method, url, body, headers, retries, redirect, assert_same_host, timeout, pool_timeout, release_conn, chunked, body_pos, **response_kw)\u001b[0m\n\u001b[0;32m    786\u001b[0m \u001b[1;33m\u001b[0m\u001b[0m\n\u001b[1;32m--> 787\u001b[1;33m             retries = retries.increment(\n\u001b[0m\u001b[0;32m    788\u001b[0m                 \u001b[0mmethod\u001b[0m\u001b[1;33m,\u001b[0m \u001b[0murl\u001b[0m\u001b[1;33m,\u001b[0m \u001b[0merror\u001b[0m\u001b[1;33m=\u001b[0m\u001b[0me\u001b[0m\u001b[1;33m,\u001b[0m \u001b[0m_pool\u001b[0m\u001b[1;33m=\u001b[0m\u001b[0mself\u001b[0m\u001b[1;33m,\u001b[0m \u001b[0m_stacktrace\u001b[0m\u001b[1;33m=\u001b[0m\u001b[0msys\u001b[0m\u001b[1;33m.\u001b[0m\u001b[0mexc_info\u001b[0m\u001b[1;33m(\u001b[0m\u001b[1;33m)\u001b[0m\u001b[1;33m[\u001b[0m\u001b[1;36m2\u001b[0m\u001b[1;33m]\u001b[0m\u001b[1;33m\u001b[0m\u001b[1;33m\u001b[0m\u001b[0m\n",
      "\u001b[1;32mc:\\Users\\Ocean\\anaconda3\\lib\\site-packages\\urllib3\\util\\retry.py\u001b[0m in \u001b[0;36mincrement\u001b[1;34m(self, method, url, response, error, _pool, _stacktrace)\u001b[0m\n\u001b[0;32m    591\u001b[0m         \u001b[1;32mif\u001b[0m \u001b[0mnew_retry\u001b[0m\u001b[1;33m.\u001b[0m\u001b[0mis_exhausted\u001b[0m\u001b[1;33m(\u001b[0m\u001b[1;33m)\u001b[0m\u001b[1;33m:\u001b[0m\u001b[1;33m\u001b[0m\u001b[1;33m\u001b[0m\u001b[0m\n\u001b[1;32m--> 592\u001b[1;33m             \u001b[1;32mraise\u001b[0m \u001b[0mMaxRetryError\u001b[0m\u001b[1;33m(\u001b[0m\u001b[0m_pool\u001b[0m\u001b[1;33m,\u001b[0m \u001b[0murl\u001b[0m\u001b[1;33m,\u001b[0m \u001b[0merror\u001b[0m \u001b[1;32mor\u001b[0m \u001b[0mResponseError\u001b[0m\u001b[1;33m(\u001b[0m\u001b[0mcause\u001b[0m\u001b[1;33m)\u001b[0m\u001b[1;33m)\u001b[0m\u001b[1;33m\u001b[0m\u001b[1;33m\u001b[0m\u001b[0m\n\u001b[0m\u001b[0;32m    593\u001b[0m \u001b[1;33m\u001b[0m\u001b[0m\n",
      "\u001b[1;31mMaxRetryError\u001b[0m: HTTPSConnectionPool(host='api.plotly.com', port=443): Max retries exceeded with url: /v2/grids (Caused by SSLError(SSLCertVerificationError(1, '[SSL: CERTIFICATE_VERIFY_FAILED] certificate verify failed: unable to get local issuer certificate (_ssl.c:1129)')))",
      "\nDuring handling of the above exception, another exception occurred:\n",
      "\u001b[1;31mSSLError\u001b[0m                                  Traceback (most recent call last)",
      "\u001b[1;32mc:\\Users\\Ocean\\anaconda3\\lib\\site-packages\\chart_studio\\api\\v2\\utils.py\u001b[0m in \u001b[0;36mrequest\u001b[1;34m(method, url, **kwargs)\u001b[0m\n\u001b[0;32m    171\u001b[0m     \u001b[1;32mtry\u001b[0m\u001b[1;33m:\u001b[0m\u001b[1;33m\u001b[0m\u001b[1;33m\u001b[0m\u001b[0m\n\u001b[1;32m--> 172\u001b[1;33m         \u001b[0mresponse\u001b[0m \u001b[1;33m=\u001b[0m \u001b[0mrequests\u001b[0m\u001b[1;33m.\u001b[0m\u001b[0mrequest\u001b[0m\u001b[1;33m(\u001b[0m\u001b[0mmethod\u001b[0m\u001b[1;33m,\u001b[0m \u001b[0murl\u001b[0m\u001b[1;33m,\u001b[0m \u001b[1;33m**\u001b[0m\u001b[0mkwargs\u001b[0m\u001b[1;33m)\u001b[0m\u001b[1;33m\u001b[0m\u001b[1;33m\u001b[0m\u001b[0m\n\u001b[0m\u001b[0;32m    173\u001b[0m     \u001b[1;32mexcept\u001b[0m \u001b[0mRequestException\u001b[0m \u001b[1;32mas\u001b[0m \u001b[0me\u001b[0m\u001b[1;33m:\u001b[0m\u001b[1;33m\u001b[0m\u001b[1;33m\u001b[0m\u001b[0m\n",
      "\u001b[1;32mc:\\Users\\Ocean\\anaconda3\\lib\\site-packages\\requests\\api.py\u001b[0m in \u001b[0;36mrequest\u001b[1;34m(method, url, **kwargs)\u001b[0m\n\u001b[0;32m     58\u001b[0m     \u001b[1;32mwith\u001b[0m \u001b[0msessions\u001b[0m\u001b[1;33m.\u001b[0m\u001b[0mSession\u001b[0m\u001b[1;33m(\u001b[0m\u001b[1;33m)\u001b[0m \u001b[1;32mas\u001b[0m \u001b[0msession\u001b[0m\u001b[1;33m:\u001b[0m\u001b[1;33m\u001b[0m\u001b[1;33m\u001b[0m\u001b[0m\n\u001b[1;32m---> 59\u001b[1;33m         \u001b[1;32mreturn\u001b[0m \u001b[0msession\u001b[0m\u001b[1;33m.\u001b[0m\u001b[0mrequest\u001b[0m\u001b[1;33m(\u001b[0m\u001b[0mmethod\u001b[0m\u001b[1;33m=\u001b[0m\u001b[0mmethod\u001b[0m\u001b[1;33m,\u001b[0m \u001b[0murl\u001b[0m\u001b[1;33m=\u001b[0m\u001b[0murl\u001b[0m\u001b[1;33m,\u001b[0m \u001b[1;33m**\u001b[0m\u001b[0mkwargs\u001b[0m\u001b[1;33m)\u001b[0m\u001b[1;33m\u001b[0m\u001b[1;33m\u001b[0m\u001b[0m\n\u001b[0m\u001b[0;32m     60\u001b[0m \u001b[1;33m\u001b[0m\u001b[0m\n",
      "\u001b[1;32mc:\\Users\\Ocean\\anaconda3\\lib\\site-packages\\requests\\sessions.py\u001b[0m in \u001b[0;36mrequest\u001b[1;34m(self, method, url, params, data, headers, cookies, files, auth, timeout, allow_redirects, proxies, hooks, stream, verify, cert, json)\u001b[0m\n\u001b[0;32m    586\u001b[0m         \u001b[0msend_kwargs\u001b[0m\u001b[1;33m.\u001b[0m\u001b[0mupdate\u001b[0m\u001b[1;33m(\u001b[0m\u001b[0msettings\u001b[0m\u001b[1;33m)\u001b[0m\u001b[1;33m\u001b[0m\u001b[1;33m\u001b[0m\u001b[0m\n\u001b[1;32m--> 587\u001b[1;33m         \u001b[0mresp\u001b[0m \u001b[1;33m=\u001b[0m \u001b[0mself\u001b[0m\u001b[1;33m.\u001b[0m\u001b[0msend\u001b[0m\u001b[1;33m(\u001b[0m\u001b[0mprep\u001b[0m\u001b[1;33m,\u001b[0m \u001b[1;33m**\u001b[0m\u001b[0msend_kwargs\u001b[0m\u001b[1;33m)\u001b[0m\u001b[1;33m\u001b[0m\u001b[1;33m\u001b[0m\u001b[0m\n\u001b[0m\u001b[0;32m    588\u001b[0m \u001b[1;33m\u001b[0m\u001b[0m\n",
      "\u001b[1;32mc:\\Users\\Ocean\\anaconda3\\lib\\site-packages\\requests\\sessions.py\u001b[0m in \u001b[0;36msend\u001b[1;34m(self, request, **kwargs)\u001b[0m\n\u001b[0;32m    700\u001b[0m         \u001b[1;31m# Send the request\u001b[0m\u001b[1;33m\u001b[0m\u001b[1;33m\u001b[0m\u001b[0m\n\u001b[1;32m--> 701\u001b[1;33m         \u001b[0mr\u001b[0m \u001b[1;33m=\u001b[0m \u001b[0madapter\u001b[0m\u001b[1;33m.\u001b[0m\u001b[0msend\u001b[0m\u001b[1;33m(\u001b[0m\u001b[0mrequest\u001b[0m\u001b[1;33m,\u001b[0m \u001b[1;33m**\u001b[0m\u001b[0mkwargs\u001b[0m\u001b[1;33m)\u001b[0m\u001b[1;33m\u001b[0m\u001b[1;33m\u001b[0m\u001b[0m\n\u001b[0m\u001b[0;32m    702\u001b[0m \u001b[1;33m\u001b[0m\u001b[0m\n",
      "\u001b[1;32mc:\\Users\\Ocean\\anaconda3\\lib\\site-packages\\requests\\adapters.py\u001b[0m in \u001b[0;36msend\u001b[1;34m(self, request, stream, timeout, verify, cert, proxies)\u001b[0m\n\u001b[0;32m    562\u001b[0m                 \u001b[1;31m# This branch is for urllib3 v1.22 and later.\u001b[0m\u001b[1;33m\u001b[0m\u001b[1;33m\u001b[0m\u001b[0m\n\u001b[1;32m--> 563\u001b[1;33m                 \u001b[1;32mraise\u001b[0m \u001b[0mSSLError\u001b[0m\u001b[1;33m(\u001b[0m\u001b[0me\u001b[0m\u001b[1;33m,\u001b[0m \u001b[0mrequest\u001b[0m\u001b[1;33m=\u001b[0m\u001b[0mrequest\u001b[0m\u001b[1;33m)\u001b[0m\u001b[1;33m\u001b[0m\u001b[1;33m\u001b[0m\u001b[0m\n\u001b[0m\u001b[0;32m    564\u001b[0m \u001b[1;33m\u001b[0m\u001b[0m\n",
      "\u001b[1;31mSSLError\u001b[0m: HTTPSConnectionPool(host='api.plotly.com', port=443): Max retries exceeded with url: /v2/grids (Caused by SSLError(SSLCertVerificationError(1, '[SSL: CERTIFICATE_VERIFY_FAILED] certificate verify failed: unable to get local issuer certificate (_ssl.c:1129)')))",
      "\nDuring handling of the above exception, another exception occurred:\n",
      "\u001b[1;31mPlotlyRequestError\u001b[0m                        Traceback (most recent call last)",
      "\u001b[1;32m~\\AppData\\Local\\Temp\\ipykernel_14836\\100697476.py\u001b[0m in \u001b[0;36m<module>\u001b[1;34m\u001b[0m\n\u001b[0;32m     46\u001b[0m \u001b[1;33m\u001b[0m\u001b[0m\n\u001b[0;32m     47\u001b[0m \u001b[0mfig\u001b[0m \u001b[1;33m=\u001b[0m \u001b[0mff\u001b[0m\u001b[1;33m.\u001b[0m\u001b[0mcreate_gantt\u001b[0m\u001b[1;33m(\u001b[0m\u001b[0mdf\u001b[0m\u001b[1;33m,\u001b[0m \u001b[0mindex_col\u001b[0m\u001b[1;33m=\u001b[0m\u001b[1;34m'Resource'\u001b[0m\u001b[1;33m,\u001b[0m \u001b[0mshow_colorbar\u001b[0m\u001b[1;33m=\u001b[0m\u001b[1;32mTrue\u001b[0m\u001b[1;33m,\u001b[0m \u001b[0mgroup_tasks\u001b[0m\u001b[1;33m=\u001b[0m\u001b[1;32mTrue\u001b[0m\u001b[1;33m,\u001b[0m \u001b[0mshowgrid_x\u001b[0m\u001b[1;33m=\u001b[0m\u001b[1;32mTrue\u001b[0m\u001b[1;33m,\u001b[0m \u001b[0mtitle\u001b[0m\u001b[1;33m=\u001b[0m\u001b[1;34m'Job shop Schedule'\u001b[0m\u001b[1;33m)\u001b[0m\u001b[1;33m\u001b[0m\u001b[1;33m\u001b[0m\u001b[0m\n\u001b[1;32m---> 48\u001b[1;33m \u001b[0mpy\u001b[0m\u001b[1;33m.\u001b[0m\u001b[0miplot\u001b[0m\u001b[1;33m(\u001b[0m\u001b[0mfig\u001b[0m\u001b[1;33m,\u001b[0m \u001b[0mfilename\u001b[0m\u001b[1;33m=\u001b[0m\u001b[1;34m'GA_job_shop_scheduling'\u001b[0m\u001b[1;33m,\u001b[0m \u001b[0mworld_readable\u001b[0m\u001b[1;33m=\u001b[0m\u001b[1;32mTrue\u001b[0m\u001b[1;33m)\u001b[0m\u001b[1;33m\u001b[0m\u001b[1;33m\u001b[0m\u001b[0m\n\u001b[0m",
      "\u001b[1;32mc:\\Users\\Ocean\\anaconda3\\lib\\site-packages\\chart_studio\\plotly\\plotly.py\u001b[0m in \u001b[0;36miplot\u001b[1;34m(figure_or_data, **plot_options)\u001b[0m\n\u001b[0;32m    133\u001b[0m     \u001b[1;32mif\u001b[0m \u001b[1;34m\"auto_open\"\u001b[0m \u001b[1;32mnot\u001b[0m \u001b[1;32min\u001b[0m \u001b[0mplot_options\u001b[0m\u001b[1;33m:\u001b[0m\u001b[1;33m\u001b[0m\u001b[1;33m\u001b[0m\u001b[0m\n\u001b[0;32m    134\u001b[0m         \u001b[0mplot_options\u001b[0m\u001b[1;33m[\u001b[0m\u001b[1;34m\"auto_open\"\u001b[0m\u001b[1;33m]\u001b[0m \u001b[1;33m=\u001b[0m \u001b[1;32mFalse\u001b[0m\u001b[1;33m\u001b[0m\u001b[1;33m\u001b[0m\u001b[0m\n\u001b[1;32m--> 135\u001b[1;33m     \u001b[0murl\u001b[0m \u001b[1;33m=\u001b[0m \u001b[0mplot\u001b[0m\u001b[1;33m(\u001b[0m\u001b[0mfigure_or_data\u001b[0m\u001b[1;33m,\u001b[0m \u001b[1;33m**\u001b[0m\u001b[0mplot_options\u001b[0m\u001b[1;33m)\u001b[0m\u001b[1;33m\u001b[0m\u001b[1;33m\u001b[0m\u001b[0m\n\u001b[0m\u001b[0;32m    136\u001b[0m \u001b[1;33m\u001b[0m\u001b[0m\n\u001b[0;32m    137\u001b[0m     \u001b[1;32mif\u001b[0m \u001b[0misinstance\u001b[0m\u001b[1;33m(\u001b[0m\u001b[0mfigure_or_data\u001b[0m\u001b[1;33m,\u001b[0m \u001b[0mdict\u001b[0m\u001b[1;33m)\u001b[0m\u001b[1;33m:\u001b[0m\u001b[1;33m\u001b[0m\u001b[1;33m\u001b[0m\u001b[0m\n",
      "\u001b[1;32mc:\\Users\\Ocean\\anaconda3\\lib\\site-packages\\chart_studio\\plotly\\plotly.py\u001b[0m in \u001b[0;36mplot\u001b[1;34m(figure_or_data, validate, **plot_options)\u001b[0m\n\u001b[0;32m    274\u001b[0m             \u001b[0mgrid_filename\u001b[0m \u001b[1;33m=\u001b[0m \u001b[0mfilename\u001b[0m \u001b[1;33m+\u001b[0m \u001b[1;34m\"_grid\"\u001b[0m\u001b[1;33m\u001b[0m\u001b[1;33m\u001b[0m\u001b[0m\n\u001b[0;32m    275\u001b[0m \u001b[1;33m\u001b[0m\u001b[0m\n\u001b[1;32m--> 276\u001b[1;33m         grid_ops.upload(\n\u001b[0m\u001b[0;32m    277\u001b[0m             \u001b[0mgrid\u001b[0m\u001b[1;33m=\u001b[0m\u001b[0mgrid\u001b[0m\u001b[1;33m,\u001b[0m\u001b[1;33m\u001b[0m\u001b[1;33m\u001b[0m\u001b[0m\n\u001b[0;32m    278\u001b[0m             \u001b[0mfilename\u001b[0m\u001b[1;33m=\u001b[0m\u001b[0mgrid_filename\u001b[0m\u001b[1;33m,\u001b[0m\u001b[1;33m\u001b[0m\u001b[1;33m\u001b[0m\u001b[0m\n",
      "\u001b[1;32mc:\\Users\\Ocean\\anaconda3\\lib\\site-packages\\chart_studio\\plotly\\plotly.py\u001b[0m in \u001b[0;36mupload\u001b[1;34m(cls, grid, filename, world_readable, auto_open, meta)\u001b[0m\n\u001b[0;32m   1085\u001b[0m                 \u001b[0mpayload\u001b[0m\u001b[1;33m[\u001b[0m\u001b[1;34m\"parent_path\"\u001b[0m\u001b[1;33m]\u001b[0m \u001b[1;33m=\u001b[0m \u001b[0mparent_path\u001b[0m\u001b[1;33m\u001b[0m\u001b[1;33m\u001b[0m\u001b[0m\n\u001b[0;32m   1086\u001b[0m \u001b[1;33m\u001b[0m\u001b[0m\n\u001b[1;32m-> 1087\u001b[1;33m         \u001b[0mfile_info\u001b[0m \u001b[1;33m=\u001b[0m \u001b[0m_create_or_overwrite_grid\u001b[0m\u001b[1;33m(\u001b[0m\u001b[0mpayload\u001b[0m\u001b[1;33m)\u001b[0m\u001b[1;33m\u001b[0m\u001b[1;33m\u001b[0m\u001b[0m\n\u001b[0m\u001b[0;32m   1088\u001b[0m \u001b[1;33m\u001b[0m\u001b[0m\n\u001b[0;32m   1089\u001b[0m         \u001b[0mcols\u001b[0m \u001b[1;33m=\u001b[0m \u001b[0mfile_info\u001b[0m\u001b[1;33m[\u001b[0m\u001b[1;34m\"cols\"\u001b[0m\u001b[1;33m]\u001b[0m\u001b[1;33m\u001b[0m\u001b[1;33m\u001b[0m\u001b[0m\n",
      "\u001b[1;32mc:\\Users\\Ocean\\anaconda3\\lib\\site-packages\\chart_studio\\plotly\\plotly.py\u001b[0m in \u001b[0;36m_create_or_overwrite_grid\u001b[1;34m(data, max_retries)\u001b[0m\n\u001b[0;32m   1548\u001b[0m     \u001b[1;31m# Create file\u001b[0m\u001b[1;33m\u001b[0m\u001b[1;33m\u001b[0m\u001b[0m\n\u001b[0;32m   1549\u001b[0m     \u001b[1;32mtry\u001b[0m\u001b[1;33m:\u001b[0m\u001b[1;33m\u001b[0m\u001b[1;33m\u001b[0m\u001b[0m\n\u001b[1;32m-> 1550\u001b[1;33m         \u001b[0mres\u001b[0m \u001b[1;33m=\u001b[0m \u001b[0mapi_module\u001b[0m\u001b[1;33m.\u001b[0m\u001b[0mcreate\u001b[0m\u001b[1;33m(\u001b[0m\u001b[0mdata\u001b[0m\u001b[1;33m)\u001b[0m\u001b[1;33m\u001b[0m\u001b[1;33m\u001b[0m\u001b[0m\n\u001b[0m\u001b[0;32m   1551\u001b[0m     \u001b[1;32mexcept\u001b[0m \u001b[0mexceptions\u001b[0m\u001b[1;33m.\u001b[0m\u001b[0mPlotlyRequestError\u001b[0m \u001b[1;32mas\u001b[0m \u001b[0me\u001b[0m\u001b[1;33m:\u001b[0m\u001b[1;33m\u001b[0m\u001b[1;33m\u001b[0m\u001b[0m\n\u001b[0;32m   1552\u001b[0m         \u001b[1;32mif\u001b[0m \u001b[0mmax_retries\u001b[0m \u001b[1;33m>\u001b[0m \u001b[1;36m0\u001b[0m \u001b[1;32mand\u001b[0m \u001b[1;34m\"already exists\"\u001b[0m \u001b[1;32min\u001b[0m \u001b[0me\u001b[0m\u001b[1;33m.\u001b[0m\u001b[0mmessage\u001b[0m\u001b[1;33m:\u001b[0m\u001b[1;33m\u001b[0m\u001b[1;33m\u001b[0m\u001b[0m\n",
      "\u001b[1;32mc:\\Users\\Ocean\\anaconda3\\lib\\site-packages\\chart_studio\\api\\v2\\grids.py\u001b[0m in \u001b[0;36mcreate\u001b[1;34m(body)\u001b[0m\n\u001b[0;32m     16\u001b[0m     \"\"\"\n\u001b[0;32m     17\u001b[0m     \u001b[0murl\u001b[0m \u001b[1;33m=\u001b[0m \u001b[0mbuild_url\u001b[0m\u001b[1;33m(\u001b[0m\u001b[0mRESOURCE\u001b[0m\u001b[1;33m)\u001b[0m\u001b[1;33m\u001b[0m\u001b[1;33m\u001b[0m\u001b[0m\n\u001b[1;32m---> 18\u001b[1;33m     \u001b[1;32mreturn\u001b[0m \u001b[0mrequest\u001b[0m\u001b[1;33m(\u001b[0m\u001b[1;34m\"post\"\u001b[0m\u001b[1;33m,\u001b[0m \u001b[0murl\u001b[0m\u001b[1;33m,\u001b[0m \u001b[0mjson\u001b[0m\u001b[1;33m=\u001b[0m\u001b[0mbody\u001b[0m\u001b[1;33m)\u001b[0m\u001b[1;33m\u001b[0m\u001b[1;33m\u001b[0m\u001b[0m\n\u001b[0m\u001b[0;32m     19\u001b[0m \u001b[1;33m\u001b[0m\u001b[0m\n\u001b[0;32m     20\u001b[0m \u001b[1;33m\u001b[0m\u001b[0m\n",
      "\u001b[1;32mc:\\Users\\Ocean\\anaconda3\\lib\\site-packages\\retrying.py\u001b[0m in \u001b[0;36mwrapped_f\u001b[1;34m(*args, **kw)\u001b[0m\n\u001b[0;32m     54\u001b[0m             \u001b[1;33m@\u001b[0m\u001b[0msix\u001b[0m\u001b[1;33m.\u001b[0m\u001b[0mwraps\u001b[0m\u001b[1;33m(\u001b[0m\u001b[0mf\u001b[0m\u001b[1;33m)\u001b[0m\u001b[1;33m\u001b[0m\u001b[1;33m\u001b[0m\u001b[0m\n\u001b[0;32m     55\u001b[0m             \u001b[1;32mdef\u001b[0m \u001b[0mwrapped_f\u001b[0m\u001b[1;33m(\u001b[0m\u001b[1;33m*\u001b[0m\u001b[0margs\u001b[0m\u001b[1;33m,\u001b[0m \u001b[1;33m**\u001b[0m\u001b[0mkw\u001b[0m\u001b[1;33m)\u001b[0m\u001b[1;33m:\u001b[0m\u001b[1;33m\u001b[0m\u001b[1;33m\u001b[0m\u001b[0m\n\u001b[1;32m---> 56\u001b[1;33m                 \u001b[1;32mreturn\u001b[0m \u001b[0mRetrying\u001b[0m\u001b[1;33m(\u001b[0m\u001b[1;33m*\u001b[0m\u001b[0mdargs\u001b[0m\u001b[1;33m,\u001b[0m \u001b[1;33m**\u001b[0m\u001b[0mdkw\u001b[0m\u001b[1;33m)\u001b[0m\u001b[1;33m.\u001b[0m\u001b[0mcall\u001b[0m\u001b[1;33m(\u001b[0m\u001b[0mf\u001b[0m\u001b[1;33m,\u001b[0m \u001b[1;33m*\u001b[0m\u001b[0margs\u001b[0m\u001b[1;33m,\u001b[0m \u001b[1;33m**\u001b[0m\u001b[0mkw\u001b[0m\u001b[1;33m)\u001b[0m\u001b[1;33m\u001b[0m\u001b[1;33m\u001b[0m\u001b[0m\n\u001b[0m\u001b[0;32m     57\u001b[0m \u001b[1;33m\u001b[0m\u001b[0m\n\u001b[0;32m     58\u001b[0m             \u001b[1;32mreturn\u001b[0m \u001b[0mwrapped_f\u001b[0m\u001b[1;33m\u001b[0m\u001b[1;33m\u001b[0m\u001b[0m\n",
      "\u001b[1;32mc:\\Users\\Ocean\\anaconda3\\lib\\site-packages\\retrying.py\u001b[0m in \u001b[0;36mcall\u001b[1;34m(self, fn, *args, **kwargs)\u001b[0m\n\u001b[0;32m    255\u001b[0m \u001b[1;33m\u001b[0m\u001b[0m\n\u001b[0;32m    256\u001b[0m             \u001b[1;32mif\u001b[0m \u001b[1;32mnot\u001b[0m \u001b[0mself\u001b[0m\u001b[1;33m.\u001b[0m\u001b[0mshould_reject\u001b[0m\u001b[1;33m(\u001b[0m\u001b[0mattempt\u001b[0m\u001b[1;33m)\u001b[0m\u001b[1;33m:\u001b[0m\u001b[1;33m\u001b[0m\u001b[1;33m\u001b[0m\u001b[0m\n\u001b[1;32m--> 257\u001b[1;33m                 \u001b[1;32mreturn\u001b[0m \u001b[0mattempt\u001b[0m\u001b[1;33m.\u001b[0m\u001b[0mget\u001b[0m\u001b[1;33m(\u001b[0m\u001b[0mself\u001b[0m\u001b[1;33m.\u001b[0m\u001b[0m_wrap_exception\u001b[0m\u001b[1;33m)\u001b[0m\u001b[1;33m\u001b[0m\u001b[1;33m\u001b[0m\u001b[0m\n\u001b[0m\u001b[0;32m    258\u001b[0m \u001b[1;33m\u001b[0m\u001b[0m\n\u001b[0;32m    259\u001b[0m             \u001b[1;32mif\u001b[0m \u001b[0mself\u001b[0m\u001b[1;33m.\u001b[0m\u001b[0m_after_attempts\u001b[0m\u001b[1;33m:\u001b[0m\u001b[1;33m\u001b[0m\u001b[1;33m\u001b[0m\u001b[0m\n",
      "\u001b[1;32mc:\\Users\\Ocean\\anaconda3\\lib\\site-packages\\retrying.py\u001b[0m in \u001b[0;36mget\u001b[1;34m(self, wrap_exception)\u001b[0m\n\u001b[0;32m    299\u001b[0m                 \u001b[1;32mraise\u001b[0m \u001b[0mRetryError\u001b[0m\u001b[1;33m(\u001b[0m\u001b[0mself\u001b[0m\u001b[1;33m)\u001b[0m\u001b[1;33m\u001b[0m\u001b[1;33m\u001b[0m\u001b[0m\n\u001b[0;32m    300\u001b[0m             \u001b[1;32melse\u001b[0m\u001b[1;33m:\u001b[0m\u001b[1;33m\u001b[0m\u001b[1;33m\u001b[0m\u001b[0m\n\u001b[1;32m--> 301\u001b[1;33m                 \u001b[0msix\u001b[0m\u001b[1;33m.\u001b[0m\u001b[0mreraise\u001b[0m\u001b[1;33m(\u001b[0m\u001b[0mself\u001b[0m\u001b[1;33m.\u001b[0m\u001b[0mvalue\u001b[0m\u001b[1;33m[\u001b[0m\u001b[1;36m0\u001b[0m\u001b[1;33m]\u001b[0m\u001b[1;33m,\u001b[0m \u001b[0mself\u001b[0m\u001b[1;33m.\u001b[0m\u001b[0mvalue\u001b[0m\u001b[1;33m[\u001b[0m\u001b[1;36m1\u001b[0m\u001b[1;33m]\u001b[0m\u001b[1;33m,\u001b[0m \u001b[0mself\u001b[0m\u001b[1;33m.\u001b[0m\u001b[0mvalue\u001b[0m\u001b[1;33m[\u001b[0m\u001b[1;36m2\u001b[0m\u001b[1;33m]\u001b[0m\u001b[1;33m)\u001b[0m\u001b[1;33m\u001b[0m\u001b[1;33m\u001b[0m\u001b[0m\n\u001b[0m\u001b[0;32m    302\u001b[0m         \u001b[1;32melse\u001b[0m\u001b[1;33m:\u001b[0m\u001b[1;33m\u001b[0m\u001b[1;33m\u001b[0m\u001b[0m\n\u001b[0;32m    303\u001b[0m             \u001b[1;32mreturn\u001b[0m \u001b[0mself\u001b[0m\u001b[1;33m.\u001b[0m\u001b[0mvalue\u001b[0m\u001b[1;33m\u001b[0m\u001b[1;33m\u001b[0m\u001b[0m\n",
      "\u001b[1;32mc:\\Users\\Ocean\\anaconda3\\lib\\site-packages\\six.py\u001b[0m in \u001b[0;36mreraise\u001b[1;34m(tp, value, tb)\u001b[0m\n\u001b[0;32m    717\u001b[0m             \u001b[1;32mif\u001b[0m \u001b[0mvalue\u001b[0m\u001b[1;33m.\u001b[0m\u001b[0m__traceback__\u001b[0m \u001b[1;32mis\u001b[0m \u001b[1;32mnot\u001b[0m \u001b[0mtb\u001b[0m\u001b[1;33m:\u001b[0m\u001b[1;33m\u001b[0m\u001b[1;33m\u001b[0m\u001b[0m\n\u001b[0;32m    718\u001b[0m                 \u001b[1;32mraise\u001b[0m \u001b[0mvalue\u001b[0m\u001b[1;33m.\u001b[0m\u001b[0mwith_traceback\u001b[0m\u001b[1;33m(\u001b[0m\u001b[0mtb\u001b[0m\u001b[1;33m)\u001b[0m\u001b[1;33m\u001b[0m\u001b[1;33m\u001b[0m\u001b[0m\n\u001b[1;32m--> 719\u001b[1;33m             \u001b[1;32mraise\u001b[0m \u001b[0mvalue\u001b[0m\u001b[1;33m\u001b[0m\u001b[1;33m\u001b[0m\u001b[0m\n\u001b[0m\u001b[0;32m    720\u001b[0m         \u001b[1;32mfinally\u001b[0m\u001b[1;33m:\u001b[0m\u001b[1;33m\u001b[0m\u001b[1;33m\u001b[0m\u001b[0m\n\u001b[0;32m    721\u001b[0m             \u001b[0mvalue\u001b[0m \u001b[1;33m=\u001b[0m \u001b[1;32mNone\u001b[0m\u001b[1;33m\u001b[0m\u001b[1;33m\u001b[0m\u001b[0m\n",
      "\u001b[1;32mc:\\Users\\Ocean\\anaconda3\\lib\\site-packages\\retrying.py\u001b[0m in \u001b[0;36mcall\u001b[1;34m(self, fn, *args, **kwargs)\u001b[0m\n\u001b[0;32m    249\u001b[0m \u001b[1;33m\u001b[0m\u001b[0m\n\u001b[0;32m    250\u001b[0m             \u001b[1;32mtry\u001b[0m\u001b[1;33m:\u001b[0m\u001b[1;33m\u001b[0m\u001b[1;33m\u001b[0m\u001b[0m\n\u001b[1;32m--> 251\u001b[1;33m                 \u001b[0mattempt\u001b[0m \u001b[1;33m=\u001b[0m \u001b[0mAttempt\u001b[0m\u001b[1;33m(\u001b[0m\u001b[0mfn\u001b[0m\u001b[1;33m(\u001b[0m\u001b[1;33m*\u001b[0m\u001b[0margs\u001b[0m\u001b[1;33m,\u001b[0m \u001b[1;33m**\u001b[0m\u001b[0mkwargs\u001b[0m\u001b[1;33m)\u001b[0m\u001b[1;33m,\u001b[0m \u001b[0mattempt_number\u001b[0m\u001b[1;33m,\u001b[0m \u001b[1;32mFalse\u001b[0m\u001b[1;33m)\u001b[0m\u001b[1;33m\u001b[0m\u001b[1;33m\u001b[0m\u001b[0m\n\u001b[0m\u001b[0;32m    252\u001b[0m             \u001b[1;32mexcept\u001b[0m\u001b[1;33m:\u001b[0m\u001b[1;33m\u001b[0m\u001b[1;33m\u001b[0m\u001b[0m\n\u001b[0;32m    253\u001b[0m                 \u001b[0mtb\u001b[0m \u001b[1;33m=\u001b[0m \u001b[0msys\u001b[0m\u001b[1;33m.\u001b[0m\u001b[0mexc_info\u001b[0m\u001b[1;33m(\u001b[0m\u001b[1;33m)\u001b[0m\u001b[1;33m\u001b[0m\u001b[1;33m\u001b[0m\u001b[0m\n",
      "\u001b[1;32mc:\\Users\\Ocean\\anaconda3\\lib\\site-packages\\chart_studio\\api\\v2\\utils.py\u001b[0m in \u001b[0;36mrequest\u001b[1;34m(method, url, **kwargs)\u001b[0m\n\u001b[0;32m    177\u001b[0m         \u001b[0mstatus_code\u001b[0m \u001b[1;33m=\u001b[0m \u001b[0mresponse\u001b[0m\u001b[1;33m.\u001b[0m\u001b[0mstatus_code\u001b[0m \u001b[1;32mif\u001b[0m \u001b[0mresponse\u001b[0m \u001b[1;32melse\u001b[0m \u001b[1;32mNone\u001b[0m\u001b[1;33m\u001b[0m\u001b[1;33m\u001b[0m\u001b[0m\n\u001b[0;32m    178\u001b[0m         \u001b[0mcontent\u001b[0m \u001b[1;33m=\u001b[0m \u001b[0mresponse\u001b[0m\u001b[1;33m.\u001b[0m\u001b[0mcontent\u001b[0m \u001b[1;32mif\u001b[0m \u001b[0mresponse\u001b[0m \u001b[1;32melse\u001b[0m \u001b[1;34m\"No content\"\u001b[0m\u001b[1;33m\u001b[0m\u001b[1;33m\u001b[0m\u001b[0m\n\u001b[1;32m--> 179\u001b[1;33m         \u001b[1;32mraise\u001b[0m \u001b[0mexceptions\u001b[0m\u001b[1;33m.\u001b[0m\u001b[0mPlotlyRequestError\u001b[0m\u001b[1;33m(\u001b[0m\u001b[0mmessage\u001b[0m\u001b[1;33m,\u001b[0m \u001b[0mstatus_code\u001b[0m\u001b[1;33m,\u001b[0m \u001b[0mcontent\u001b[0m\u001b[1;33m)\u001b[0m\u001b[1;33m\u001b[0m\u001b[1;33m\u001b[0m\u001b[0m\n\u001b[0m\u001b[0;32m    180\u001b[0m     \u001b[0mvalidate_response\u001b[0m\u001b[1;33m(\u001b[0m\u001b[0mresponse\u001b[0m\u001b[1;33m)\u001b[0m\u001b[1;33m\u001b[0m\u001b[1;33m\u001b[0m\u001b[0m\n\u001b[0;32m    181\u001b[0m     \u001b[1;32mreturn\u001b[0m \u001b[0mresponse\u001b[0m\u001b[1;33m\u001b[0m\u001b[1;33m\u001b[0m\u001b[0m\n",
      "\u001b[1;31mPlotlyRequestError\u001b[0m: No message"
     ]
    }
   ],
   "source": [
    "# 绘制甘特图\n",
    "\n",
    "import chart_studio.plotly as py\n",
    "import chart_studio.tools as tls\n",
    "import plotly.figure_factory as ff\n",
    "import datetime\n",
    "import os\n",
    "from dotenv import load_dotenv\n",
    "\n",
    "load_dotenv()\n",
    "\n",
    "plotly_username = os.getenv(\"PLOTLY_USERNAME\")\n",
    "plotly_api_key = os.getenv(\"PLOTLY_API_KEY\")\n",
    "\n",
    "tls.set_credentials_file(username=plotly_username, api_key=plotly_api_key)\n",
    "\n",
    "m_keys=[j+1 for j in range(num_mc)]\n",
    "j_keys=[j for j in range(num_job)]\n",
    "key_count={key:0 for key in j_keys}\n",
    "j_count={key:0 for key in j_keys}\n",
    "m_count={key:0 for key in m_keys}\n",
    "j_record={}\n",
    "for i in sequence_best:\n",
    "    gen_t=int(pt[i][key_count[i]])\n",
    "    gen_m=int(ms[i][key_count[i]])\n",
    "    j_count[i]=j_count[i]+gen_t\n",
    "    m_count[gen_m]=m_count[gen_m]+gen_t\n",
    "    \n",
    "    if m_count[gen_m]<j_count[i]:\n",
    "        m_count[gen_m]=j_count[i]\n",
    "    elif m_count[gen_m]>j_count[i]:\n",
    "        j_count[i]=m_count[gen_m]\n",
    "    \n",
    "    start_time=str(datetime.timedelta(seconds=j_count[i]-pt[i][key_count[i]])) # convert seconds to hours, minutes and seconds\n",
    "    end_time=str(datetime.timedelta(seconds=j_count[i]))\n",
    "        \n",
    "    j_record[(i,gen_m)]=[start_time,end_time]\n",
    "    \n",
    "    key_count[i]=key_count[i]+1\n",
    "        \n",
    "\n",
    "df=[]\n",
    "for m in m_keys:\n",
    "    for j in j_keys:\n",
    "        df.append(dict(Task='Machine %s'%(m), Start='2023-03-17 %s'%(str(j_record[(j,m)][0])), Finish='2023-03-17 %s'%(str(j_record[(j,m)][1])),Resource='Job %s'%(j+1)))\n",
    "    \n",
    "fig = ff.create_gantt(df, index_col='Resource', show_colorbar=True, group_tasks=True, showgrid_x=True, title='Job shop Schedule')\n",
    "py.iplot(fig, filename='GA_job_shop_scheduling', world_readable=True)"
   ]
  },
  {
   "cell_type": "code",
   "execution_count": 22,
   "metadata": {},
   "outputs": [
    {
     "data": {
      "application/vnd.plotly.v1+json": {
       "config": {
        "linkText": "Export to plotly.com",
        "plotlyServerURL": "https://plotly.com",
        "showLink": false
       },
       "data": [
        {
         "fill": "toself",
         "fillcolor": "rgb(127, 127, 127)",
         "hoverinfo": "name",
         "legendgroup": "rgb(127, 127, 127)",
         "mode": "none",
         "name": "Job 7",
         "showlegend": true,
         "type": "scatter",
         "x": [
          "2023-03-17 0:05:03",
          "2023-03-17 0:05:40",
          "2023-03-17 0:05:40",
          "2023-03-17 0:05:03",
          "2023-03-17 0:05:03",
          "2023-03-17 0:04:17",
          "2023-03-17 0:05:03",
          "2023-03-17 0:05:03",
          "2023-03-17 0:04:17",
          "2023-03-17 0:04:17",
          "2023-03-17 0:08:54",
          "2023-03-17 0:09:07",
          "2023-03-17 0:09:07",
          "2023-03-17 0:08:54",
          "2023-03-17 0:08:54",
          "2023-03-17 0:05:40",
          "2023-03-17 0:06:41",
          "2023-03-17 0:06:41",
          "2023-03-17 0:05:40",
          "2023-03-17 0:05:40",
          "2023-03-17 0:15:47",
          "2023-03-17 0:16:42",
          "2023-03-17 0:16:42",
          "2023-03-17 0:15:47",
          "2023-03-17 0:15:47",
          "2023-03-17 0:10:48",
          "2023-03-17 0:11:09",
          "2023-03-17 0:11:09",
          "2023-03-17 0:10:48",
          "2023-03-17 0:10:48",
          "2023-03-17 0:10:16",
          "2023-03-17 0:10:48",
          "2023-03-17 0:10:48",
          "2023-03-17 0:10:16",
          "2023-03-17 0:10:16",
          "2023-03-17 0:15:17",
          "2023-03-17 0:15:47",
          "2023-03-17 0:15:47",
          "2023-03-17 0:15:17",
          "2023-03-17 0:15:17",
          "2023-03-17 0:13:48",
          "2023-03-17 0:15:17",
          "2023-03-17 0:15:17",
          "2023-03-17 0:13:48",
          "2023-03-17 0:13:48",
          "2023-03-17 0:13:16",
          "2023-03-17 0:13:48",
          "2023-03-17 0:13:48",
          "2023-03-17 0:13:16"
         ],
         "y": [
          8.8,
          8.8,
          9.2,
          9.2,
          null,
          7.8,
          7.8,
          8.2,
          8.2,
          null,
          6.8,
          6.8,
          7.2,
          7.2,
          null,
          5.8,
          5.8,
          6.2,
          6.2,
          null,
          4.8,
          4.8,
          5.2,
          5.2,
          null,
          3.8,
          3.8,
          4.2,
          4.2,
          null,
          2.8,
          2.8,
          3.2,
          3.2,
          null,
          1.8,
          1.8,
          2.2,
          2.2,
          null,
          0.8,
          0.8,
          1.2,
          1.2,
          null,
          -0.2,
          -0.2,
          0.2,
          0.2
         ]
        },
        {
         "fill": "toself",
         "fillcolor": "rgb(140, 86, 75)",
         "hoverinfo": "name",
         "legendgroup": "rgb(140, 86, 75)",
         "mode": "none",
         "name": "Job 5",
         "showlegend": true,
         "type": "scatter",
         "x": [
          "2023-03-17 0:02:56",
          "2023-03-17 0:03:02",
          "2023-03-17 0:03:02",
          "2023-03-17 0:02:56",
          "2023-03-17 0:02:56",
          "2023-03-17 0:05:49",
          "2023-03-17 0:06:11",
          "2023-03-17 0:06:11",
          "2023-03-17 0:05:49",
          "2023-03-17 0:05:49",
          "2023-03-17 0:00:00",
          "2023-03-17 0:00:14",
          "2023-03-17 0:00:14",
          "2023-03-17 0:00:00",
          "2023-03-17 0:00:00",
          "2023-03-17 0:09:51",
          "2023-03-17 0:10:17",
          "2023-03-17 0:10:17",
          "2023-03-17 0:09:51",
          "2023-03-17 0:09:51",
          "2023-03-17 0:10:56",
          "2023-03-17 0:12:05",
          "2023-03-17 0:12:05",
          "2023-03-17 0:10:56",
          "2023-03-17 0:10:56",
          "2023-03-17 0:07:55",
          "2023-03-17 0:08:56",
          "2023-03-17 0:08:56",
          "2023-03-17 0:07:55",
          "2023-03-17 0:07:55",
          "2023-03-17 0:18:03",
          "2023-03-17 0:18:56",
          "2023-03-17 0:18:56",
          "2023-03-17 0:18:03",
          "2023-03-17 0:18:03",
          "2023-03-17 0:15:47",
          "2023-03-17 0:16:36",
          "2023-03-17 0:16:36",
          "2023-03-17 0:15:47",
          "2023-03-17 0:15:47",
          "2023-03-17 0:12:23",
          "2023-03-17 0:12:44",
          "2023-03-17 0:12:44",
          "2023-03-17 0:12:23",
          "2023-03-17 0:12:23",
          "2023-03-17 0:16:36",
          "2023-03-17 0:17:48",
          "2023-03-17 0:17:48",
          "2023-03-17 0:16:36"
         ],
         "y": [
          8.8,
          8.8,
          9.2,
          9.2,
          null,
          7.8,
          7.8,
          8.2,
          8.2,
          null,
          6.8,
          6.8,
          7.2,
          7.2,
          null,
          5.8,
          5.8,
          6.2,
          6.2,
          null,
          4.8,
          4.8,
          5.2,
          5.2,
          null,
          3.8,
          3.8,
          4.2,
          4.2,
          null,
          2.8,
          2.8,
          3.2,
          3.2,
          null,
          1.8,
          1.8,
          2.2,
          2.2,
          null,
          0.8,
          0.8,
          1.2,
          1.2,
          null,
          -0.2,
          -0.2,
          0.2,
          0.2
         ]
        },
        {
         "fill": "toself",
         "fillcolor": "rgb(148, 103, 189)",
         "hoverinfo": "name",
         "legendgroup": "rgb(148, 103, 189)",
         "mode": "none",
         "name": "Job 4",
         "showlegend": true,
         "type": "scatter",
         "x": [
          "2023-03-17 0:07:17",
          "2023-03-17 0:08:28",
          "2023-03-17 0:08:28",
          "2023-03-17 0:07:17",
          "2023-03-17 0:07:17",
          "2023-03-17 0:02:56",
          "2023-03-17 0:04:17",
          "2023-03-17 0:04:17",
          "2023-03-17 0:02:56",
          "2023-03-17 0:02:56",
          "2023-03-17 0:05:42",
          "2023-03-17 0:07:17",
          "2023-03-17 0:07:17",
          "2023-03-17 0:05:42",
          "2023-03-17 0:05:42",
          "2023-03-17 0:12:41",
          "2023-03-17 0:14:19",
          "2023-03-17 0:14:19",
          "2023-03-17 0:12:41",
          "2023-03-17 0:12:41",
          "2023-03-17 0:08:28",
          "2023-03-17 0:10:07",
          "2023-03-17 0:10:07",
          "2023-03-17 0:08:28",
          "2023-03-17 0:08:28",
          "2023-03-17 0:16:40",
          "2023-03-17 0:17:23",
          "2023-03-17 0:17:23",
          "2023-03-17 0:16:40",
          "2023-03-17 0:16:40",
          "2023-03-17 0:10:07",
          "2023-03-17 0:10:16",
          "2023-03-17 0:10:16",
          "2023-03-17 0:10:07",
          "2023-03-17 0:10:07",
          "2023-03-17 0:11:16",
          "2023-03-17 0:12:41",
          "2023-03-17 0:12:41",
          "2023-03-17 0:11:16",
          "2023-03-17 0:11:16",
          "2023-03-17 0:10:24",
          "2023-03-17 0:11:16",
          "2023-03-17 0:11:16",
          "2023-03-17 0:10:24",
          "2023-03-17 0:10:24",
          "2023-03-17 0:14:52",
          "2023-03-17 0:15:14",
          "2023-03-17 0:15:14",
          "2023-03-17 0:14:52"
         ],
         "y": [
          8.8,
          8.8,
          9.2,
          9.2,
          null,
          7.8,
          7.8,
          8.2,
          8.2,
          null,
          6.8,
          6.8,
          7.2,
          7.2,
          null,
          5.8,
          5.8,
          6.2,
          6.2,
          null,
          4.8,
          4.8,
          5.2,
          5.2,
          null,
          3.8,
          3.8,
          4.2,
          4.2,
          null,
          2.8,
          2.8,
          3.2,
          3.2,
          null,
          1.8,
          1.8,
          2.2,
          2.2,
          null,
          0.8,
          0.8,
          1.2,
          1.2,
          null,
          -0.2,
          -0.2,
          0.2,
          0.2
         ]
        },
        {
         "fill": "toself",
         "fillcolor": "rgb(188, 189, 34)",
         "hoverinfo": "name",
         "legendgroup": "rgb(188, 189, 34)",
         "mode": "none",
         "name": "Job 8",
         "showlegend": true,
         "type": "scatter",
         "x": [
          "2023-03-17 0:03:02",
          "2023-03-17 0:04:28",
          "2023-03-17 0:04:28",
          "2023-03-17 0:03:02",
          "2023-03-17 0:03:02",
          "2023-03-17 0:05:03",
          "2023-03-17 0:05:49",
          "2023-03-17 0:05:49",
          "2023-03-17 0:05:03",
          "2023-03-17 0:05:03",
          "2023-03-17 0:02:13",
          "2023-03-17 0:02:44",
          "2023-03-17 0:02:44",
          "2023-03-17 0:02:13",
          "2023-03-17 0:02:13",
          "2023-03-17 0:15:12",
          "2023-03-17 0:16:31",
          "2023-03-17 0:16:31",
          "2023-03-17 0:15:12",
          "2023-03-17 0:15:12",
          "2023-03-17 0:07:03",
          "2023-03-17 0:07:35",
          "2023-03-17 0:07:35",
          "2023-03-17 0:07:03",
          "2023-03-17 0:07:03",
          "2023-03-17 0:05:49",
          "2023-03-17 0:07:03",
          "2023-03-17 0:07:03",
          "2023-03-17 0:05:49",
          "2023-03-17 0:05:49",
          "2023-03-17 0:07:35",
          "2023-03-17 0:09:03",
          "2023-03-17 0:09:03",
          "2023-03-17 0:07:35",
          "2023-03-17 0:07:35",
          "2023-03-17 0:14:36",
          "2023-03-17 0:15:12",
          "2023-03-17 0:15:12",
          "2023-03-17 0:14:36",
          "2023-03-17 0:14:36",
          "2023-03-17 0:12:04",
          "2023-03-17 0:12:23",
          "2023-03-17 0:12:23",
          "2023-03-17 0:12:04",
          "2023-03-17 0:12:04",
          "2023-03-17 0:13:48",
          "2023-03-17 0:14:36",
          "2023-03-17 0:14:36",
          "2023-03-17 0:13:48"
         ],
         "y": [
          8.8,
          8.8,
          9.2,
          9.2,
          null,
          7.8,
          7.8,
          8.2,
          8.2,
          null,
          6.8,
          6.8,
          7.2,
          7.2,
          null,
          5.8,
          5.8,
          6.2,
          6.2,
          null,
          4.8,
          4.8,
          5.2,
          5.2,
          null,
          3.8,
          3.8,
          4.2,
          4.2,
          null,
          2.8,
          2.8,
          3.2,
          3.2,
          null,
          1.8,
          1.8,
          2.2,
          2.2,
          null,
          0.8,
          0.8,
          1.2,
          1.2,
          null,
          -0.2,
          -0.2,
          0.2,
          0.2
         ]
        },
        {
         "fill": "toself",
         "fillcolor": "rgb(214, 39, 40)",
         "hoverinfo": "name",
         "legendgroup": "rgb(214, 39, 40)",
         "mode": "none",
         "name": "Job 3",
         "showlegend": true,
         "type": "scatter",
         "x": [
          "2023-03-17 0:01:31",
          "2023-03-17 0:02:56",
          "2023-03-17 0:02:56",
          "2023-03-17 0:01:31",
          "2023-03-17 0:01:31",
          "2023-03-17 0:00:00",
          "2023-03-17 0:01:31",
          "2023-03-17 0:01:31",
          "2023-03-17 0:00:00",
          "2023-03-17 0:00:00",
          "2023-03-17 0:07:40",
          "2023-03-17 0:08:54",
          "2023-03-17 0:08:54",
          "2023-03-17 0:07:40",
          "2023-03-17 0:07:40",
          "2023-03-17 0:02:56",
          "2023-03-17 0:03:35",
          "2023-03-17 0:03:35",
          "2023-03-17 0:02:56",
          "2023-03-17 0:02:56",
          "2023-03-17 0:18:48",
          "2023-03-17 0:19:21",
          "2023-03-17 0:19:21",
          "2023-03-17 0:18:48",
          "2023-03-17 0:18:48",
          "2023-03-17 0:13:16",
          "2023-03-17 0:13:26",
          "2023-03-17 0:13:26",
          "2023-03-17 0:13:16",
          "2023-03-17 0:13:16",
          "2023-03-17 0:16:34",
          "2023-03-17 0:18:03",
          "2023-03-17 0:18:03",
          "2023-03-17 0:16:34",
          "2023-03-17 0:16:34",
          "2023-03-17 0:13:37",
          "2023-03-17 0:13:49",
          "2023-03-17 0:13:49",
          "2023-03-17 0:13:37",
          "2023-03-17 0:13:37",
          "2023-03-17 0:08:54",
          "2023-03-17 0:10:24",
          "2023-03-17 0:10:24",
          "2023-03-17 0:08:54",
          "2023-03-17 0:08:54",
          "2023-03-17 0:18:03",
          "2023-03-17 0:18:48",
          "2023-03-17 0:18:48",
          "2023-03-17 0:18:03"
         ],
         "y": [
          8.8,
          8.8,
          9.2,
          9.2,
          null,
          7.8,
          7.8,
          8.2,
          8.2,
          null,
          6.8,
          6.8,
          7.2,
          7.2,
          null,
          5.8,
          5.8,
          6.2,
          6.2,
          null,
          4.8,
          4.8,
          5.2,
          5.2,
          null,
          3.8,
          3.8,
          4.2,
          4.2,
          null,
          2.8,
          2.8,
          3.2,
          3.2,
          null,
          1.8,
          1.8,
          2.2,
          2.2,
          null,
          0.8,
          0.8,
          1.2,
          1.2,
          null,
          -0.2,
          -0.2,
          0.2,
          0.2
         ]
        },
        {
         "fill": "toself",
         "fillcolor": "rgb(227, 119, 194)",
         "hoverinfo": "name",
         "legendgroup": "rgb(227, 119, 194)",
         "mode": "none",
         "name": "Job 6",
         "showlegend": true,
         "type": "scatter",
         "x": [
          "2023-03-17 0:13:16",
          "2023-03-17 0:14:03",
          "2023-03-17 0:14:03",
          "2023-03-17 0:13:16",
          "2023-03-17 0:13:16",
          "2023-03-17 0:06:11",
          "2023-03-17 0:06:13",
          "2023-03-17 0:06:13",
          "2023-03-17 0:06:11",
          "2023-03-17 0:06:11",
          "2023-03-17 0:02:44",
          "2023-03-17 0:04:08",
          "2023-03-17 0:04:08",
          "2023-03-17 0:02:44",
          "2023-03-17 0:02:44",
          "2023-03-17 0:08:16",
          "2023-03-17 0:09:51",
          "2023-03-17 0:09:51",
          "2023-03-17 0:08:16",
          "2023-03-17 0:08:16",
          "2023-03-17 0:18:38",
          "2023-03-17 0:18:44",
          "2023-03-17 0:18:44",
          "2023-03-17 0:18:38",
          "2023-03-17 0:18:38",
          "2023-03-17 0:07:03",
          "2023-03-17 0:07:55",
          "2023-03-17 0:07:55",
          "2023-03-17 0:07:03",
          "2023-03-17 0:07:03",
          "2023-03-17 0:14:03",
          "2023-03-17 0:15:08",
          "2023-03-17 0:15:08",
          "2023-03-17 0:14:03",
          "2023-03-17 0:14:03",
          "2023-03-17 0:20:09",
          "2023-03-17 0:20:34",
          "2023-03-17 0:20:34",
          "2023-03-17 0:20:09",
          "2023-03-17 0:20:09",
          "2023-03-17 0:11:16",
          "2023-03-17 0:12:04",
          "2023-03-17 0:12:04",
          "2023-03-17 0:11:16",
          "2023-03-17 0:11:16",
          "2023-03-17 0:12:04",
          "2023-03-17 0:13:16",
          "2023-03-17 0:13:16",
          "2023-03-17 0:12:04"
         ],
         "y": [
          8.8,
          8.8,
          9.2,
          9.2,
          null,
          7.8,
          7.8,
          8.2,
          8.2,
          null,
          6.8,
          6.8,
          7.2,
          7.2,
          null,
          5.8,
          5.8,
          6.2,
          6.2,
          null,
          4.8,
          4.8,
          5.2,
          5.2,
          null,
          3.8,
          3.8,
          4.2,
          4.2,
          null,
          2.8,
          2.8,
          3.2,
          3.2,
          null,
          1.8,
          1.8,
          2.2,
          2.2,
          null,
          0.8,
          0.8,
          1.2,
          1.2,
          null,
          -0.2,
          -0.2,
          0.2,
          0.2
         ]
        },
        {
         "fill": "toself",
         "fillcolor": "rgb(23, 190, 207)",
         "hoverinfo": "name",
         "legendgroup": "rgb(23, 190, 207)",
         "mode": "none",
         "name": "Job 9",
         "showlegend": true,
         "type": "scatter",
         "x": [
          "2023-03-17 0:08:28",
          "2023-03-17 0:09:44",
          "2023-03-17 0:09:44",
          "2023-03-17 0:08:28",
          "2023-03-17 0:08:28",
          "2023-03-17 0:09:44",
          "2023-03-17 0:10:53",
          "2023-03-17 0:10:53",
          "2023-03-17 0:09:44",
          "2023-03-17 0:09:44",
          "2023-03-17 0:13:16",
          "2023-03-17 0:14:41",
          "2023-03-17 0:14:41",
          "2023-03-17 0:13:16",
          "2023-03-17 0:13:16",
          "2023-03-17 0:11:09",
          "2023-03-17 0:12:25",
          "2023-03-17 0:12:25",
          "2023-03-17 0:11:09",
          "2023-03-17 0:11:09",
          "2023-03-17 0:18:12",
          "2023-03-17 0:18:38",
          "2023-03-17 0:18:38",
          "2023-03-17 0:18:12",
          "2023-03-17 0:18:12",
          "2023-03-17 0:12:25",
          "2023-03-17 0:13:16",
          "2023-03-17 0:13:16",
          "2023-03-17 0:12:25",
          "2023-03-17 0:12:25",
          "2023-03-17 0:15:54",
          "2023-03-17 0:16:34",
          "2023-03-17 0:16:34",
          "2023-03-17 0:15:54",
          "2023-03-17 0:15:54",
          "2023-03-17 0:16:36",
          "2023-03-17 0:18:05",
          "2023-03-17 0:18:05",
          "2023-03-17 0:16:36",
          "2023-03-17 0:16:36",
          "2023-03-17 0:18:38",
          "2023-03-17 0:19:52",
          "2023-03-17 0:19:52",
          "2023-03-17 0:18:38",
          "2023-03-17 0:18:38",
          "2023-03-17 0:14:41",
          "2023-03-17 0:14:52",
          "2023-03-17 0:14:52",
          "2023-03-17 0:14:41"
         ],
         "y": [
          8.8,
          8.8,
          9.2,
          9.2,
          null,
          7.8,
          7.8,
          8.2,
          8.2,
          null,
          6.8,
          6.8,
          7.2,
          7.2,
          null,
          5.8,
          5.8,
          6.2,
          6.2,
          null,
          4.8,
          4.8,
          5.2,
          5.2,
          null,
          3.8,
          3.8,
          4.2,
          4.2,
          null,
          2.8,
          2.8,
          3.2,
          3.2,
          null,
          1.8,
          1.8,
          2.2,
          2.2,
          null,
          0.8,
          0.8,
          1.2,
          1.2,
          null,
          -0.2,
          -0.2,
          0.2,
          0.2
         ]
        },
        {
         "fill": "toself",
         "fillcolor": "rgb(255, 127, 14)",
         "hoverinfo": "name",
         "legendgroup": "rgb(255, 127, 14)",
         "mode": "none",
         "name": "Job 10",
         "showlegend": true,
         "type": "scatter",
         "x": [
          "2023-03-17 0:04:28",
          "2023-03-17 0:04:41",
          "2023-03-17 0:04:41",
          "2023-03-17 0:04:28",
          "2023-03-17 0:04:28",
          "2023-03-17 0:01:31",
          "2023-03-17 0:02:56",
          "2023-03-17 0:02:56",
          "2023-03-17 0:01:31",
          "2023-03-17 0:01:31",
          "2023-03-17 0:04:41",
          "2023-03-17 0:05:42",
          "2023-03-17 0:05:42",
          "2023-03-17 0:04:41",
          "2023-03-17 0:04:41",
          "2023-03-17 0:10:17",
          "2023-03-17 0:11:09",
          "2023-03-17 0:11:09",
          "2023-03-17 0:10:17",
          "2023-03-17 0:10:17",
          "2023-03-17 0:16:42",
          "2023-03-17 0:18:12",
          "2023-03-17 0:18:12",
          "2023-03-17 0:16:42",
          "2023-03-17 0:16:42",
          "2023-03-17 0:08:56",
          "2023-03-17 0:09:43",
          "2023-03-17 0:09:43",
          "2023-03-17 0:08:56",
          "2023-03-17 0:08:56",
          "2023-03-17 0:05:42",
          "2023-03-17 0:05:49",
          "2023-03-17 0:05:49",
          "2023-03-17 0:05:42",
          "2023-03-17 0:05:42",
          "2023-03-17 0:18:12",
          "2023-03-17 0:18:57",
          "2023-03-17 0:18:57",
          "2023-03-17 0:18:12",
          "2023-03-17 0:18:12",
          "2023-03-17 0:05:49",
          "2023-03-17 0:06:53",
          "2023-03-17 0:06:53",
          "2023-03-17 0:05:49",
          "2023-03-17 0:05:49",
          "2023-03-17 0:06:53",
          "2023-03-17 0:08:09",
          "2023-03-17 0:08:09",
          "2023-03-17 0:06:53"
         ],
         "y": [
          8.8,
          8.8,
          9.2,
          9.2,
          null,
          7.8,
          7.8,
          8.2,
          8.2,
          null,
          6.8,
          6.8,
          7.2,
          7.2,
          null,
          5.8,
          5.8,
          6.2,
          6.2,
          null,
          4.8,
          4.8,
          5.2,
          5.2,
          null,
          3.8,
          3.8,
          4.2,
          4.2,
          null,
          2.8,
          2.8,
          3.2,
          3.2,
          null,
          1.8,
          1.8,
          2.2,
          2.2,
          null,
          0.8,
          0.8,
          1.2,
          1.2,
          null,
          -0.2,
          -0.2,
          0.2,
          0.2
         ]
        },
        {
         "fill": "toself",
         "fillcolor": "rgb(31, 119, 180)",
         "hoverinfo": "name",
         "legendgroup": "rgb(31, 119, 180)",
         "mode": "none",
         "name": "Job 1",
         "showlegend": true,
         "type": "scatter",
         "x": [
          "2023-03-17 0:00:43",
          "2023-03-17 0:01:12",
          "2023-03-17 0:01:12",
          "2023-03-17 0:00:43",
          "2023-03-17 0:00:43",
          "2023-03-17 0:06:13",
          "2023-03-17 0:07:31",
          "2023-03-17 0:07:31",
          "2023-03-17 0:06:13",
          "2023-03-17 0:06:13",
          "2023-03-17 0:07:31",
          "2023-03-17 0:07:40",
          "2023-03-17 0:07:40",
          "2023-03-17 0:07:31",
          "2023-03-17 0:07:31",
          "2023-03-17 0:07:40",
          "2023-03-17 0:08:16",
          "2023-03-17 0:08:16",
          "2023-03-17 0:07:40",
          "2023-03-17 0:07:40",
          "2023-03-17 0:10:07",
          "2023-03-17 0:10:56",
          "2023-03-17 0:10:56",
          "2023-03-17 0:10:07",
          "2023-03-17 0:10:07",
          "2023-03-17 0:11:09",
          "2023-03-17 0:11:20",
          "2023-03-17 0:11:20",
          "2023-03-17 0:11:09",
          "2023-03-17 0:11:09",
          "2023-03-17 0:11:20",
          "2023-03-17 0:12:22",
          "2023-03-17 0:12:22",
          "2023-03-17 0:11:20",
          "2023-03-17 0:11:20",
          "2023-03-17 0:12:41",
          "2023-03-17 0:13:37",
          "2023-03-17 0:13:37",
          "2023-03-17 0:12:41",
          "2023-03-17 0:12:41",
          "2023-03-17 0:15:17",
          "2023-03-17 0:16:01",
          "2023-03-17 0:16:01",
          "2023-03-17 0:15:17",
          "2023-03-17 0:15:17",
          "2023-03-17 0:18:48",
          "2023-03-17 0:19:09",
          "2023-03-17 0:19:09",
          "2023-03-17 0:18:48"
         ],
         "y": [
          8.8,
          8.8,
          9.2,
          9.2,
          null,
          7.8,
          7.8,
          8.2,
          8.2,
          null,
          6.8,
          6.8,
          7.2,
          7.2,
          null,
          5.8,
          5.8,
          6.2,
          6.2,
          null,
          4.8,
          4.8,
          5.2,
          5.2,
          null,
          3.8,
          3.8,
          4.2,
          4.2,
          null,
          2.8,
          2.8,
          3.2,
          3.2,
          null,
          1.8,
          1.8,
          2.2,
          2.2,
          null,
          0.8,
          0.8,
          1.2,
          1.2,
          null,
          -0.2,
          -0.2,
          0.2,
          0.2
         ]
        },
        {
         "fill": "toself",
         "fillcolor": "rgb(44, 160, 44)",
         "hoverinfo": "name",
         "legendgroup": "rgb(44, 160, 44)",
         "mode": "none",
         "name": "Job 2",
         "showlegend": true,
         "type": "scatter",
         "x": [
          "2023-03-17 0:00:00",
          "2023-03-17 0:00:43",
          "2023-03-17 0:00:43",
          "2023-03-17 0:00:00",
          "2023-03-17 0:00:00",
          "2023-03-17 0:07:31",
          "2023-03-17 0:07:59",
          "2023-03-17 0:07:59",
          "2023-03-17 0:07:31",
          "2023-03-17 0:07:31",
          "2023-03-17 0:00:43",
          "2023-03-17 0:02:13",
          "2023-03-17 0:02:13",
          "2023-03-17 0:00:43",
          "2023-03-17 0:00:43",
          "2023-03-17 0:03:39",
          "2023-03-17 0:04:48",
          "2023-03-17 0:04:48",
          "2023-03-17 0:03:39",
          "2023-03-17 0:03:39",
          "2023-03-17 0:02:13",
          "2023-03-17 0:03:28",
          "2023-03-17 0:03:28",
          "2023-03-17 0:02:13",
          "2023-03-17 0:02:13",
          "2023-03-17 0:15:54",
          "2023-03-17 0:16:40",
          "2023-03-17 0:16:40",
          "2023-03-17 0:15:54",
          "2023-03-17 0:15:54",
          "2023-03-17 0:15:08",
          "2023-03-17 0:15:54",
          "2023-03-17 0:15:54",
          "2023-03-17 0:15:08",
          "2023-03-17 0:15:08",
          "2023-03-17 0:18:57",
          "2023-03-17 0:20:09",
          "2023-03-17 0:20:09",
          "2023-03-17 0:18:57",
          "2023-03-17 0:18:57",
          "2023-03-17 0:20:09",
          "2023-03-17 0:20:39",
          "2023-03-17 0:20:39",
          "2023-03-17 0:20:09",
          "2023-03-17 0:20:09",
          "2023-03-17 0:03:28",
          "2023-03-17 0:03:39",
          "2023-03-17 0:03:39",
          "2023-03-17 0:03:28"
         ],
         "y": [
          8.8,
          8.8,
          9.2,
          9.2,
          null,
          7.8,
          7.8,
          8.2,
          8.2,
          null,
          6.8,
          6.8,
          7.2,
          7.2,
          null,
          5.8,
          5.8,
          6.2,
          6.2,
          null,
          4.8,
          4.8,
          5.2,
          5.2,
          null,
          3.8,
          3.8,
          4.2,
          4.2,
          null,
          2.8,
          2.8,
          3.2,
          3.2,
          null,
          1.8,
          1.8,
          2.2,
          2.2,
          null,
          0.8,
          0.8,
          1.2,
          1.2,
          null,
          -0.2,
          -0.2,
          0.2,
          0.2
         ]
        },
        {
         "legendgroup": "rgb(127, 127, 127)",
         "marker": {
          "color": "rgb(127, 127, 127)",
          "opacity": 0,
          "size": 1
         },
         "mode": "markers",
         "name": "",
         "showlegend": false,
         "text": [
          null,
          null,
          null,
          null,
          null,
          null,
          null,
          null,
          null,
          null,
          null,
          null,
          null,
          null,
          null,
          null,
          null,
          null,
          null,
          null
         ],
         "type": "scatter",
         "x": [
          "2023-03-17 0:05:03",
          "2023-03-17 0:05:40",
          "2023-03-17 0:04:17",
          "2023-03-17 0:05:03",
          "2023-03-17 0:08:54",
          "2023-03-17 0:09:07",
          "2023-03-17 0:05:40",
          "2023-03-17 0:06:41",
          "2023-03-17 0:15:47",
          "2023-03-17 0:16:42",
          "2023-03-17 0:10:48",
          "2023-03-17 0:11:09",
          "2023-03-17 0:10:16",
          "2023-03-17 0:10:48",
          "2023-03-17 0:15:17",
          "2023-03-17 0:15:47",
          "2023-03-17 0:13:48",
          "2023-03-17 0:15:17",
          "2023-03-17 0:13:16",
          "2023-03-17 0:13:48"
         ],
         "y": [
          9,
          9,
          8,
          8,
          7,
          7,
          6,
          6,
          5,
          5,
          4,
          4,
          3,
          3,
          2,
          2,
          1,
          1,
          0,
          0
         ]
        },
        {
         "legendgroup": "rgb(140, 86, 75)",
         "marker": {
          "color": "rgb(140, 86, 75)",
          "opacity": 0,
          "size": 1
         },
         "mode": "markers",
         "name": "",
         "showlegend": false,
         "text": [
          null,
          null,
          null,
          null,
          null,
          null,
          null,
          null,
          null,
          null,
          null,
          null,
          null,
          null,
          null,
          null,
          null,
          null,
          null,
          null
         ],
         "type": "scatter",
         "x": [
          "2023-03-17 0:02:56",
          "2023-03-17 0:03:02",
          "2023-03-17 0:05:49",
          "2023-03-17 0:06:11",
          "2023-03-17 0:00:00",
          "2023-03-17 0:00:14",
          "2023-03-17 0:09:51",
          "2023-03-17 0:10:17",
          "2023-03-17 0:10:56",
          "2023-03-17 0:12:05",
          "2023-03-17 0:07:55",
          "2023-03-17 0:08:56",
          "2023-03-17 0:18:03",
          "2023-03-17 0:18:56",
          "2023-03-17 0:15:47",
          "2023-03-17 0:16:36",
          "2023-03-17 0:12:23",
          "2023-03-17 0:12:44",
          "2023-03-17 0:16:36",
          "2023-03-17 0:17:48"
         ],
         "y": [
          9,
          9,
          8,
          8,
          7,
          7,
          6,
          6,
          5,
          5,
          4,
          4,
          3,
          3,
          2,
          2,
          1,
          1,
          0,
          0
         ]
        },
        {
         "legendgroup": "rgb(148, 103, 189)",
         "marker": {
          "color": "rgb(148, 103, 189)",
          "opacity": 0,
          "size": 1
         },
         "mode": "markers",
         "name": "",
         "showlegend": false,
         "text": [
          null,
          null,
          null,
          null,
          null,
          null,
          null,
          null,
          null,
          null,
          null,
          null,
          null,
          null,
          null,
          null,
          null,
          null,
          null,
          null
         ],
         "type": "scatter",
         "x": [
          "2023-03-17 0:07:17",
          "2023-03-17 0:08:28",
          "2023-03-17 0:02:56",
          "2023-03-17 0:04:17",
          "2023-03-17 0:05:42",
          "2023-03-17 0:07:17",
          "2023-03-17 0:12:41",
          "2023-03-17 0:14:19",
          "2023-03-17 0:08:28",
          "2023-03-17 0:10:07",
          "2023-03-17 0:16:40",
          "2023-03-17 0:17:23",
          "2023-03-17 0:10:07",
          "2023-03-17 0:10:16",
          "2023-03-17 0:11:16",
          "2023-03-17 0:12:41",
          "2023-03-17 0:10:24",
          "2023-03-17 0:11:16",
          "2023-03-17 0:14:52",
          "2023-03-17 0:15:14"
         ],
         "y": [
          9,
          9,
          8,
          8,
          7,
          7,
          6,
          6,
          5,
          5,
          4,
          4,
          3,
          3,
          2,
          2,
          1,
          1,
          0,
          0
         ]
        },
        {
         "legendgroup": "rgb(188, 189, 34)",
         "marker": {
          "color": "rgb(188, 189, 34)",
          "opacity": 0,
          "size": 1
         },
         "mode": "markers",
         "name": "",
         "showlegend": false,
         "text": [
          null,
          null,
          null,
          null,
          null,
          null,
          null,
          null,
          null,
          null,
          null,
          null,
          null,
          null,
          null,
          null,
          null,
          null,
          null,
          null
         ],
         "type": "scatter",
         "x": [
          "2023-03-17 0:03:02",
          "2023-03-17 0:04:28",
          "2023-03-17 0:05:03",
          "2023-03-17 0:05:49",
          "2023-03-17 0:02:13",
          "2023-03-17 0:02:44",
          "2023-03-17 0:15:12",
          "2023-03-17 0:16:31",
          "2023-03-17 0:07:03",
          "2023-03-17 0:07:35",
          "2023-03-17 0:05:49",
          "2023-03-17 0:07:03",
          "2023-03-17 0:07:35",
          "2023-03-17 0:09:03",
          "2023-03-17 0:14:36",
          "2023-03-17 0:15:12",
          "2023-03-17 0:12:04",
          "2023-03-17 0:12:23",
          "2023-03-17 0:13:48",
          "2023-03-17 0:14:36"
         ],
         "y": [
          9,
          9,
          8,
          8,
          7,
          7,
          6,
          6,
          5,
          5,
          4,
          4,
          3,
          3,
          2,
          2,
          1,
          1,
          0,
          0
         ]
        },
        {
         "legendgroup": "rgb(214, 39, 40)",
         "marker": {
          "color": "rgb(214, 39, 40)",
          "opacity": 0,
          "size": 1
         },
         "mode": "markers",
         "name": "",
         "showlegend": false,
         "text": [
          null,
          null,
          null,
          null,
          null,
          null,
          null,
          null,
          null,
          null,
          null,
          null,
          null,
          null,
          null,
          null,
          null,
          null,
          null,
          null
         ],
         "type": "scatter",
         "x": [
          "2023-03-17 0:01:31",
          "2023-03-17 0:02:56",
          "2023-03-17 0:00:00",
          "2023-03-17 0:01:31",
          "2023-03-17 0:07:40",
          "2023-03-17 0:08:54",
          "2023-03-17 0:02:56",
          "2023-03-17 0:03:35",
          "2023-03-17 0:18:48",
          "2023-03-17 0:19:21",
          "2023-03-17 0:13:16",
          "2023-03-17 0:13:26",
          "2023-03-17 0:16:34",
          "2023-03-17 0:18:03",
          "2023-03-17 0:13:37",
          "2023-03-17 0:13:49",
          "2023-03-17 0:08:54",
          "2023-03-17 0:10:24",
          "2023-03-17 0:18:03",
          "2023-03-17 0:18:48"
         ],
         "y": [
          9,
          9,
          8,
          8,
          7,
          7,
          6,
          6,
          5,
          5,
          4,
          4,
          3,
          3,
          2,
          2,
          1,
          1,
          0,
          0
         ]
        },
        {
         "legendgroup": "rgb(227, 119, 194)",
         "marker": {
          "color": "rgb(227, 119, 194)",
          "opacity": 0,
          "size": 1
         },
         "mode": "markers",
         "name": "",
         "showlegend": false,
         "text": [
          null,
          null,
          null,
          null,
          null,
          null,
          null,
          null,
          null,
          null,
          null,
          null,
          null,
          null,
          null,
          null,
          null,
          null,
          null,
          null
         ],
         "type": "scatter",
         "x": [
          "2023-03-17 0:13:16",
          "2023-03-17 0:14:03",
          "2023-03-17 0:06:11",
          "2023-03-17 0:06:13",
          "2023-03-17 0:02:44",
          "2023-03-17 0:04:08",
          "2023-03-17 0:08:16",
          "2023-03-17 0:09:51",
          "2023-03-17 0:18:38",
          "2023-03-17 0:18:44",
          "2023-03-17 0:07:03",
          "2023-03-17 0:07:55",
          "2023-03-17 0:14:03",
          "2023-03-17 0:15:08",
          "2023-03-17 0:20:09",
          "2023-03-17 0:20:34",
          "2023-03-17 0:11:16",
          "2023-03-17 0:12:04",
          "2023-03-17 0:12:04",
          "2023-03-17 0:13:16"
         ],
         "y": [
          9,
          9,
          8,
          8,
          7,
          7,
          6,
          6,
          5,
          5,
          4,
          4,
          3,
          3,
          2,
          2,
          1,
          1,
          0,
          0
         ]
        },
        {
         "legendgroup": "rgb(23, 190, 207)",
         "marker": {
          "color": "rgb(23, 190, 207)",
          "opacity": 0,
          "size": 1
         },
         "mode": "markers",
         "name": "",
         "showlegend": false,
         "text": [
          null,
          null,
          null,
          null,
          null,
          null,
          null,
          null,
          null,
          null,
          null,
          null,
          null,
          null,
          null,
          null,
          null,
          null,
          null,
          null
         ],
         "type": "scatter",
         "x": [
          "2023-03-17 0:08:28",
          "2023-03-17 0:09:44",
          "2023-03-17 0:09:44",
          "2023-03-17 0:10:53",
          "2023-03-17 0:13:16",
          "2023-03-17 0:14:41",
          "2023-03-17 0:11:09",
          "2023-03-17 0:12:25",
          "2023-03-17 0:18:12",
          "2023-03-17 0:18:38",
          "2023-03-17 0:12:25",
          "2023-03-17 0:13:16",
          "2023-03-17 0:15:54",
          "2023-03-17 0:16:34",
          "2023-03-17 0:16:36",
          "2023-03-17 0:18:05",
          "2023-03-17 0:18:38",
          "2023-03-17 0:19:52",
          "2023-03-17 0:14:41",
          "2023-03-17 0:14:52"
         ],
         "y": [
          9,
          9,
          8,
          8,
          7,
          7,
          6,
          6,
          5,
          5,
          4,
          4,
          3,
          3,
          2,
          2,
          1,
          1,
          0,
          0
         ]
        },
        {
         "legendgroup": "rgb(255, 127, 14)",
         "marker": {
          "color": "rgb(255, 127, 14)",
          "opacity": 0,
          "size": 1
         },
         "mode": "markers",
         "name": "",
         "showlegend": false,
         "text": [
          null,
          null,
          null,
          null,
          null,
          null,
          null,
          null,
          null,
          null,
          null,
          null,
          null,
          null,
          null,
          null,
          null,
          null,
          null,
          null
         ],
         "type": "scatter",
         "x": [
          "2023-03-17 0:04:28",
          "2023-03-17 0:04:41",
          "2023-03-17 0:01:31",
          "2023-03-17 0:02:56",
          "2023-03-17 0:04:41",
          "2023-03-17 0:05:42",
          "2023-03-17 0:10:17",
          "2023-03-17 0:11:09",
          "2023-03-17 0:16:42",
          "2023-03-17 0:18:12",
          "2023-03-17 0:08:56",
          "2023-03-17 0:09:43",
          "2023-03-17 0:05:42",
          "2023-03-17 0:05:49",
          "2023-03-17 0:18:12",
          "2023-03-17 0:18:57",
          "2023-03-17 0:05:49",
          "2023-03-17 0:06:53",
          "2023-03-17 0:06:53",
          "2023-03-17 0:08:09"
         ],
         "y": [
          9,
          9,
          8,
          8,
          7,
          7,
          6,
          6,
          5,
          5,
          4,
          4,
          3,
          3,
          2,
          2,
          1,
          1,
          0,
          0
         ]
        },
        {
         "legendgroup": "rgb(31, 119, 180)",
         "marker": {
          "color": "rgb(31, 119, 180)",
          "opacity": 0,
          "size": 1
         },
         "mode": "markers",
         "name": "",
         "showlegend": false,
         "text": [
          null,
          null,
          null,
          null,
          null,
          null,
          null,
          null,
          null,
          null,
          null,
          null,
          null,
          null,
          null,
          null,
          null,
          null,
          null,
          null
         ],
         "type": "scatter",
         "x": [
          "2023-03-17 0:00:43",
          "2023-03-17 0:01:12",
          "2023-03-17 0:06:13",
          "2023-03-17 0:07:31",
          "2023-03-17 0:07:31",
          "2023-03-17 0:07:40",
          "2023-03-17 0:07:40",
          "2023-03-17 0:08:16",
          "2023-03-17 0:10:07",
          "2023-03-17 0:10:56",
          "2023-03-17 0:11:09",
          "2023-03-17 0:11:20",
          "2023-03-17 0:11:20",
          "2023-03-17 0:12:22",
          "2023-03-17 0:12:41",
          "2023-03-17 0:13:37",
          "2023-03-17 0:15:17",
          "2023-03-17 0:16:01",
          "2023-03-17 0:18:48",
          "2023-03-17 0:19:09"
         ],
         "y": [
          9,
          9,
          8,
          8,
          7,
          7,
          6,
          6,
          5,
          5,
          4,
          4,
          3,
          3,
          2,
          2,
          1,
          1,
          0,
          0
         ]
        },
        {
         "legendgroup": "rgb(44, 160, 44)",
         "marker": {
          "color": "rgb(44, 160, 44)",
          "opacity": 0,
          "size": 1
         },
         "mode": "markers",
         "name": "",
         "showlegend": false,
         "text": [
          null,
          null,
          null,
          null,
          null,
          null,
          null,
          null,
          null,
          null,
          null,
          null,
          null,
          null,
          null,
          null,
          null,
          null,
          null,
          null
         ],
         "type": "scatter",
         "x": [
          "2023-03-17 0:00:00",
          "2023-03-17 0:00:43",
          "2023-03-17 0:07:31",
          "2023-03-17 0:07:59",
          "2023-03-17 0:00:43",
          "2023-03-17 0:02:13",
          "2023-03-17 0:03:39",
          "2023-03-17 0:04:48",
          "2023-03-17 0:02:13",
          "2023-03-17 0:03:28",
          "2023-03-17 0:15:54",
          "2023-03-17 0:16:40",
          "2023-03-17 0:15:08",
          "2023-03-17 0:15:54",
          "2023-03-17 0:18:57",
          "2023-03-17 0:20:09",
          "2023-03-17 0:20:09",
          "2023-03-17 0:20:39",
          "2023-03-17 0:03:28",
          "2023-03-17 0:03:39"
         ],
         "y": [
          9,
          9,
          8,
          8,
          7,
          7,
          6,
          6,
          5,
          5,
          4,
          4,
          3,
          3,
          2,
          2,
          1,
          1,
          0,
          0
         ]
        }
       ],
       "layout": {
        "height": 600,
        "hovermode": "closest",
        "showlegend": true,
        "template": {
         "data": {
          "bar": [
           {
            "error_x": {
             "color": "#2a3f5f"
            },
            "error_y": {
             "color": "#2a3f5f"
            },
            "marker": {
             "line": {
              "color": "#E5ECF6",
              "width": 0.5
             },
             "pattern": {
              "fillmode": "overlay",
              "size": 10,
              "solidity": 0.2
             }
            },
            "type": "bar"
           }
          ],
          "barpolar": [
           {
            "marker": {
             "line": {
              "color": "#E5ECF6",
              "width": 0.5
             },
             "pattern": {
              "fillmode": "overlay",
              "size": 10,
              "solidity": 0.2
             }
            },
            "type": "barpolar"
           }
          ],
          "carpet": [
           {
            "aaxis": {
             "endlinecolor": "#2a3f5f",
             "gridcolor": "white",
             "linecolor": "white",
             "minorgridcolor": "white",
             "startlinecolor": "#2a3f5f"
            },
            "baxis": {
             "endlinecolor": "#2a3f5f",
             "gridcolor": "white",
             "linecolor": "white",
             "minorgridcolor": "white",
             "startlinecolor": "#2a3f5f"
            },
            "type": "carpet"
           }
          ],
          "choropleth": [
           {
            "colorbar": {
             "outlinewidth": 0,
             "ticks": ""
            },
            "type": "choropleth"
           }
          ],
          "contour": [
           {
            "colorbar": {
             "outlinewidth": 0,
             "ticks": ""
            },
            "colorscale": [
             [
              0,
              "#0d0887"
             ],
             [
              0.1111111111111111,
              "#46039f"
             ],
             [
              0.2222222222222222,
              "#7201a8"
             ],
             [
              0.3333333333333333,
              "#9c179e"
             ],
             [
              0.4444444444444444,
              "#bd3786"
             ],
             [
              0.5555555555555556,
              "#d8576b"
             ],
             [
              0.6666666666666666,
              "#ed7953"
             ],
             [
              0.7777777777777778,
              "#fb9f3a"
             ],
             [
              0.8888888888888888,
              "#fdca26"
             ],
             [
              1,
              "#f0f921"
             ]
            ],
            "type": "contour"
           }
          ],
          "contourcarpet": [
           {
            "colorbar": {
             "outlinewidth": 0,
             "ticks": ""
            },
            "type": "contourcarpet"
           }
          ],
          "heatmap": [
           {
            "colorbar": {
             "outlinewidth": 0,
             "ticks": ""
            },
            "colorscale": [
             [
              0,
              "#0d0887"
             ],
             [
              0.1111111111111111,
              "#46039f"
             ],
             [
              0.2222222222222222,
              "#7201a8"
             ],
             [
              0.3333333333333333,
              "#9c179e"
             ],
             [
              0.4444444444444444,
              "#bd3786"
             ],
             [
              0.5555555555555556,
              "#d8576b"
             ],
             [
              0.6666666666666666,
              "#ed7953"
             ],
             [
              0.7777777777777778,
              "#fb9f3a"
             ],
             [
              0.8888888888888888,
              "#fdca26"
             ],
             [
              1,
              "#f0f921"
             ]
            ],
            "type": "heatmap"
           }
          ],
          "heatmapgl": [
           {
            "colorbar": {
             "outlinewidth": 0,
             "ticks": ""
            },
            "colorscale": [
             [
              0,
              "#0d0887"
             ],
             [
              0.1111111111111111,
              "#46039f"
             ],
             [
              0.2222222222222222,
              "#7201a8"
             ],
             [
              0.3333333333333333,
              "#9c179e"
             ],
             [
              0.4444444444444444,
              "#bd3786"
             ],
             [
              0.5555555555555556,
              "#d8576b"
             ],
             [
              0.6666666666666666,
              "#ed7953"
             ],
             [
              0.7777777777777778,
              "#fb9f3a"
             ],
             [
              0.8888888888888888,
              "#fdca26"
             ],
             [
              1,
              "#f0f921"
             ]
            ],
            "type": "heatmapgl"
           }
          ],
          "histogram": [
           {
            "marker": {
             "pattern": {
              "fillmode": "overlay",
              "size": 10,
              "solidity": 0.2
             }
            },
            "type": "histogram"
           }
          ],
          "histogram2d": [
           {
            "colorbar": {
             "outlinewidth": 0,
             "ticks": ""
            },
            "colorscale": [
             [
              0,
              "#0d0887"
             ],
             [
              0.1111111111111111,
              "#46039f"
             ],
             [
              0.2222222222222222,
              "#7201a8"
             ],
             [
              0.3333333333333333,
              "#9c179e"
             ],
             [
              0.4444444444444444,
              "#bd3786"
             ],
             [
              0.5555555555555556,
              "#d8576b"
             ],
             [
              0.6666666666666666,
              "#ed7953"
             ],
             [
              0.7777777777777778,
              "#fb9f3a"
             ],
             [
              0.8888888888888888,
              "#fdca26"
             ],
             [
              1,
              "#f0f921"
             ]
            ],
            "type": "histogram2d"
           }
          ],
          "histogram2dcontour": [
           {
            "colorbar": {
             "outlinewidth": 0,
             "ticks": ""
            },
            "colorscale": [
             [
              0,
              "#0d0887"
             ],
             [
              0.1111111111111111,
              "#46039f"
             ],
             [
              0.2222222222222222,
              "#7201a8"
             ],
             [
              0.3333333333333333,
              "#9c179e"
             ],
             [
              0.4444444444444444,
              "#bd3786"
             ],
             [
              0.5555555555555556,
              "#d8576b"
             ],
             [
              0.6666666666666666,
              "#ed7953"
             ],
             [
              0.7777777777777778,
              "#fb9f3a"
             ],
             [
              0.8888888888888888,
              "#fdca26"
             ],
             [
              1,
              "#f0f921"
             ]
            ],
            "type": "histogram2dcontour"
           }
          ],
          "mesh3d": [
           {
            "colorbar": {
             "outlinewidth": 0,
             "ticks": ""
            },
            "type": "mesh3d"
           }
          ],
          "parcoords": [
           {
            "line": {
             "colorbar": {
              "outlinewidth": 0,
              "ticks": ""
             }
            },
            "type": "parcoords"
           }
          ],
          "pie": [
           {
            "automargin": true,
            "type": "pie"
           }
          ],
          "scatter": [
           {
            "fillpattern": {
             "fillmode": "overlay",
             "size": 10,
             "solidity": 0.2
            },
            "type": "scatter"
           }
          ],
          "scatter3d": [
           {
            "line": {
             "colorbar": {
              "outlinewidth": 0,
              "ticks": ""
             }
            },
            "marker": {
             "colorbar": {
              "outlinewidth": 0,
              "ticks": ""
             }
            },
            "type": "scatter3d"
           }
          ],
          "scattercarpet": [
           {
            "marker": {
             "colorbar": {
              "outlinewidth": 0,
              "ticks": ""
             }
            },
            "type": "scattercarpet"
           }
          ],
          "scattergeo": [
           {
            "marker": {
             "colorbar": {
              "outlinewidth": 0,
              "ticks": ""
             }
            },
            "type": "scattergeo"
           }
          ],
          "scattergl": [
           {
            "marker": {
             "colorbar": {
              "outlinewidth": 0,
              "ticks": ""
             }
            },
            "type": "scattergl"
           }
          ],
          "scattermapbox": [
           {
            "marker": {
             "colorbar": {
              "outlinewidth": 0,
              "ticks": ""
             }
            },
            "type": "scattermapbox"
           }
          ],
          "scatterpolar": [
           {
            "marker": {
             "colorbar": {
              "outlinewidth": 0,
              "ticks": ""
             }
            },
            "type": "scatterpolar"
           }
          ],
          "scatterpolargl": [
           {
            "marker": {
             "colorbar": {
              "outlinewidth": 0,
              "ticks": ""
             }
            },
            "type": "scatterpolargl"
           }
          ],
          "scatterternary": [
           {
            "marker": {
             "colorbar": {
              "outlinewidth": 0,
              "ticks": ""
             }
            },
            "type": "scatterternary"
           }
          ],
          "surface": [
           {
            "colorbar": {
             "outlinewidth": 0,
             "ticks": ""
            },
            "colorscale": [
             [
              0,
              "#0d0887"
             ],
             [
              0.1111111111111111,
              "#46039f"
             ],
             [
              0.2222222222222222,
              "#7201a8"
             ],
             [
              0.3333333333333333,
              "#9c179e"
             ],
             [
              0.4444444444444444,
              "#bd3786"
             ],
             [
              0.5555555555555556,
              "#d8576b"
             ],
             [
              0.6666666666666666,
              "#ed7953"
             ],
             [
              0.7777777777777778,
              "#fb9f3a"
             ],
             [
              0.8888888888888888,
              "#fdca26"
             ],
             [
              1,
              "#f0f921"
             ]
            ],
            "type": "surface"
           }
          ],
          "table": [
           {
            "cells": {
             "fill": {
              "color": "#EBF0F8"
             },
             "line": {
              "color": "white"
             }
            },
            "header": {
             "fill": {
              "color": "#C8D4E3"
             },
             "line": {
              "color": "white"
             }
            },
            "type": "table"
           }
          ]
         },
         "layout": {
          "annotationdefaults": {
           "arrowcolor": "#2a3f5f",
           "arrowhead": 0,
           "arrowwidth": 1
          },
          "autotypenumbers": "strict",
          "coloraxis": {
           "colorbar": {
            "outlinewidth": 0,
            "ticks": ""
           }
          },
          "colorscale": {
           "diverging": [
            [
             0,
             "#8e0152"
            ],
            [
             0.1,
             "#c51b7d"
            ],
            [
             0.2,
             "#de77ae"
            ],
            [
             0.3,
             "#f1b6da"
            ],
            [
             0.4,
             "#fde0ef"
            ],
            [
             0.5,
             "#f7f7f7"
            ],
            [
             0.6,
             "#e6f5d0"
            ],
            [
             0.7,
             "#b8e186"
            ],
            [
             0.8,
             "#7fbc41"
            ],
            [
             0.9,
             "#4d9221"
            ],
            [
             1,
             "#276419"
            ]
           ],
           "sequential": [
            [
             0,
             "#0d0887"
            ],
            [
             0.1111111111111111,
             "#46039f"
            ],
            [
             0.2222222222222222,
             "#7201a8"
            ],
            [
             0.3333333333333333,
             "#9c179e"
            ],
            [
             0.4444444444444444,
             "#bd3786"
            ],
            [
             0.5555555555555556,
             "#d8576b"
            ],
            [
             0.6666666666666666,
             "#ed7953"
            ],
            [
             0.7777777777777778,
             "#fb9f3a"
            ],
            [
             0.8888888888888888,
             "#fdca26"
            ],
            [
             1,
             "#f0f921"
            ]
           ],
           "sequentialminus": [
            [
             0,
             "#0d0887"
            ],
            [
             0.1111111111111111,
             "#46039f"
            ],
            [
             0.2222222222222222,
             "#7201a8"
            ],
            [
             0.3333333333333333,
             "#9c179e"
            ],
            [
             0.4444444444444444,
             "#bd3786"
            ],
            [
             0.5555555555555556,
             "#d8576b"
            ],
            [
             0.6666666666666666,
             "#ed7953"
            ],
            [
             0.7777777777777778,
             "#fb9f3a"
            ],
            [
             0.8888888888888888,
             "#fdca26"
            ],
            [
             1,
             "#f0f921"
            ]
           ]
          },
          "colorway": [
           "#636efa",
           "#EF553B",
           "#00cc96",
           "#ab63fa",
           "#FFA15A",
           "#19d3f3",
           "#FF6692",
           "#B6E880",
           "#FF97FF",
           "#FECB52"
          ],
          "font": {
           "color": "#2a3f5f"
          },
          "geo": {
           "bgcolor": "white",
           "lakecolor": "white",
           "landcolor": "#E5ECF6",
           "showlakes": true,
           "showland": true,
           "subunitcolor": "white"
          },
          "hoverlabel": {
           "align": "left"
          },
          "hovermode": "closest",
          "mapbox": {
           "style": "light"
          },
          "paper_bgcolor": "white",
          "plot_bgcolor": "#E5ECF6",
          "polar": {
           "angularaxis": {
            "gridcolor": "white",
            "linecolor": "white",
            "ticks": ""
           },
           "bgcolor": "#E5ECF6",
           "radialaxis": {
            "gridcolor": "white",
            "linecolor": "white",
            "ticks": ""
           }
          },
          "scene": {
           "xaxis": {
            "backgroundcolor": "#E5ECF6",
            "gridcolor": "white",
            "gridwidth": 2,
            "linecolor": "white",
            "showbackground": true,
            "ticks": "",
            "zerolinecolor": "white"
           },
           "yaxis": {
            "backgroundcolor": "#E5ECF6",
            "gridcolor": "white",
            "gridwidth": 2,
            "linecolor": "white",
            "showbackground": true,
            "ticks": "",
            "zerolinecolor": "white"
           },
           "zaxis": {
            "backgroundcolor": "#E5ECF6",
            "gridcolor": "white",
            "gridwidth": 2,
            "linecolor": "white",
            "showbackground": true,
            "ticks": "",
            "zerolinecolor": "white"
           }
          },
          "shapedefaults": {
           "line": {
            "color": "#2a3f5f"
           }
          },
          "ternary": {
           "aaxis": {
            "gridcolor": "white",
            "linecolor": "white",
            "ticks": ""
           },
           "baxis": {
            "gridcolor": "white",
            "linecolor": "white",
            "ticks": ""
           },
           "bgcolor": "#E5ECF6",
           "caxis": {
            "gridcolor": "white",
            "linecolor": "white",
            "ticks": ""
           }
          },
          "title": {
           "x": 0.05
          },
          "xaxis": {
           "automargin": true,
           "gridcolor": "white",
           "linecolor": "white",
           "ticks": "",
           "title": {
            "standoff": 15
           },
           "zerolinecolor": "white",
           "zerolinewidth": 2
          },
          "yaxis": {
           "automargin": true,
           "gridcolor": "white",
           "linecolor": "white",
           "ticks": "",
           "title": {
            "standoff": 15
           },
           "zerolinecolor": "white",
           "zerolinewidth": 2
          }
         }
        },
        "title": {
         "text": "Job shop Schedule"
        },
        "xaxis": {
         "rangeselector": {
          "buttons": [
           {
            "count": 7,
            "label": "1w",
            "step": "day",
            "stepmode": "backward"
           },
           {
            "count": 1,
            "label": "1m",
            "step": "month",
            "stepmode": "backward"
           },
           {
            "count": 6,
            "label": "6m",
            "step": "month",
            "stepmode": "backward"
           },
           {
            "count": 1,
            "label": "YTD",
            "step": "year",
            "stepmode": "todate"
           },
           {
            "count": 1,
            "label": "1y",
            "step": "year",
            "stepmode": "backward"
           },
           {
            "step": "all"
           }
          ]
         },
         "showgrid": true,
         "type": "date",
         "zeroline": false
        },
        "yaxis": {
         "autorange": false,
         "range": [
          -1,
          11
         ],
         "showgrid": false,
         "ticktext": [
          "Machine 10",
          "Machine 9",
          "Machine 8",
          "Machine 7",
          "Machine 6",
          "Machine 5",
          "Machine 4",
          "Machine 3",
          "Machine 2",
          "Machine 1"
         ],
         "tickvals": [
          0,
          1,
          2,
          3,
          4,
          5,
          6,
          7,
          8,
          9
         ],
         "zeroline": false
        }
       }
      }
     },
     "metadata": {},
     "output_type": "display_data"
    }
   ],
   "source": [
    "# 本地绘制甘特图\n",
    "\n",
    "import plotly as py\n",
    "import chart_studio.tools as tls\n",
    "import plotly.figure_factory as ff\n",
    "import datetime\n",
    "import os\n",
    "from dotenv import load_dotenv\n",
    "\n",
    "load_dotenv()\n",
    "\n",
    "plotly_username = os.getenv(\"PLOTLY_USERNAME\")\n",
    "plotly_api_key = os.getenv(\"PLOTLY_API_KEY\")\n",
    "\n",
    "tls.set_credentials_file(username=plotly_username, api_key=plotly_api_key)\n",
    "\n",
    "m_keys=[j+1 for j in range(num_mc)]\n",
    "j_keys=[j for j in range(num_job)]\n",
    "key_count={key:0 for key in j_keys}\n",
    "j_count={key:0 for key in j_keys}\n",
    "m_count={key:0 for key in m_keys}\n",
    "j_record={}\n",
    "for i in sequence_best:\n",
    "    gen_t=int(pt[i][key_count[i]])\n",
    "    gen_m=int(ms[i][key_count[i]])\n",
    "    j_count[i]=j_count[i]+gen_t\n",
    "    m_count[gen_m]=m_count[gen_m]+gen_t\n",
    "    \n",
    "    if m_count[gen_m]<j_count[i]:\n",
    "        m_count[gen_m]=j_count[i]\n",
    "    elif m_count[gen_m]>j_count[i]:\n",
    "        j_count[i]=m_count[gen_m]\n",
    "    \n",
    "    start_time=str(datetime.timedelta(seconds=j_count[i]-pt[i][key_count[i]])) # convert seconds to hours, minutes and seconds\n",
    "    end_time=str(datetime.timedelta(seconds=j_count[i]))\n",
    "        \n",
    "    j_record[(i,gen_m)]=[start_time,end_time]\n",
    "    \n",
    "    key_count[i]=key_count[i]+1\n",
    "        \n",
    "\n",
    "df=[]\n",
    "for m in m_keys:\n",
    "    for j in j_keys:\n",
    "        df.append(dict(Task='Machine %s'%(m), Start='2023-03-17 %s'%(str(j_record[(j,m)][0])), Finish='2023-03-17 %s'%(str(j_record[(j,m)][1])),Resource='Job %s'%(j+1)))\n",
    "    \n",
    "fig = ff.create_gantt(df, index_col='Resource', show_colorbar=True, group_tasks=True, showgrid_x=True, title='Job shop Schedule')\n",
    "py.offline.iplot(fig, filename='GA_job_shop_scheduling')"
   ]
  }
 ],
 "metadata": {
  "kernelspec": {
   "display_name": "base",
   "language": "python",
   "name": "python3"
  },
  "language_info": {
   "codemirror_mode": {
    "name": "ipython",
    "version": 3
   },
   "file_extension": ".py",
   "mimetype": "text/x-python",
   "name": "python",
   "nbconvert_exporter": "python",
   "pygments_lexer": "ipython3",
   "version": "3.9.13"
  },
  "orig_nbformat": 4
 },
 "nbformat": 4,
 "nbformat_minor": 2
}
